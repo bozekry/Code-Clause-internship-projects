{
  "cells": [
    {
      "cell_type": "code",
      "execution_count": null,
      "metadata": {
        "id": "7e1856d1"
      },
      "outputs": [],
      "source": [
        "import pandas as pd\n",
        "import numpy as np\n",
        "import matplotlib.pyplot as plt\n",
        "import seaborn as sns"
      ],
      "id": "7e1856d1"
    },
    {
      "cell_type": "code",
      "execution_count": null,
      "metadata": {
        "id": "00dd280e"
      },
      "outputs": [],
      "source": [
        "df=pd.read_csv(\"/content/creditcard.csv\")"
      ],
      "id": "00dd280e"
    },
    {
      "cell_type": "code",
      "execution_count": null,
      "metadata": {
        "colab": {
          "base_uri": "https://localhost:8080/",
          "height": 299
        },
        "id": "f5dd83ca",
        "outputId": "4e28e72e-65f1-4ff4-f4d4-92dcd0da2bb5"
      },
      "outputs": [
        {
          "data": {
            "text/html": [
              "\n",
              "  <div id=\"df-059cde63-ee2c-433b-8e6c-4b8968c6ed26\">\n",
              "    <div class=\"colab-df-container\">\n",
              "      <div>\n",
              "<style scoped>\n",
              "    .dataframe tbody tr th:only-of-type {\n",
              "        vertical-align: middle;\n",
              "    }\n",
              "\n",
              "    .dataframe tbody tr th {\n",
              "        vertical-align: top;\n",
              "    }\n",
              "\n",
              "    .dataframe thead th {\n",
              "        text-align: right;\n",
              "    }\n",
              "</style>\n",
              "<table border=\"1\" class=\"dataframe\">\n",
              "  <thead>\n",
              "    <tr style=\"text-align: right;\">\n",
              "      <th></th>\n",
              "      <th>Time</th>\n",
              "      <th>V1</th>\n",
              "      <th>V2</th>\n",
              "      <th>V3</th>\n",
              "      <th>V4</th>\n",
              "      <th>V5</th>\n",
              "      <th>V6</th>\n",
              "      <th>V7</th>\n",
              "      <th>V8</th>\n",
              "      <th>V9</th>\n",
              "      <th>...</th>\n",
              "      <th>V21</th>\n",
              "      <th>V22</th>\n",
              "      <th>V23</th>\n",
              "      <th>V24</th>\n",
              "      <th>V25</th>\n",
              "      <th>V26</th>\n",
              "      <th>V27</th>\n",
              "      <th>V28</th>\n",
              "      <th>Amount</th>\n",
              "      <th>Class</th>\n",
              "    </tr>\n",
              "  </thead>\n",
              "  <tbody>\n",
              "    <tr>\n",
              "      <th>0</th>\n",
              "      <td>0.0</td>\n",
              "      <td>-1.359807</td>\n",
              "      <td>-0.072781</td>\n",
              "      <td>2.536347</td>\n",
              "      <td>1.378155</td>\n",
              "      <td>-0.338321</td>\n",
              "      <td>0.462388</td>\n",
              "      <td>0.239599</td>\n",
              "      <td>0.098698</td>\n",
              "      <td>0.363787</td>\n",
              "      <td>...</td>\n",
              "      <td>-0.018307</td>\n",
              "      <td>0.277838</td>\n",
              "      <td>-0.110474</td>\n",
              "      <td>0.066928</td>\n",
              "      <td>0.128539</td>\n",
              "      <td>-0.189115</td>\n",
              "      <td>0.133558</td>\n",
              "      <td>-0.021053</td>\n",
              "      <td>149.62</td>\n",
              "      <td>0</td>\n",
              "    </tr>\n",
              "    <tr>\n",
              "      <th>1</th>\n",
              "      <td>0.0</td>\n",
              "      <td>1.191857</td>\n",
              "      <td>0.266151</td>\n",
              "      <td>0.166480</td>\n",
              "      <td>0.448154</td>\n",
              "      <td>0.060018</td>\n",
              "      <td>-0.082361</td>\n",
              "      <td>-0.078803</td>\n",
              "      <td>0.085102</td>\n",
              "      <td>-0.255425</td>\n",
              "      <td>...</td>\n",
              "      <td>-0.225775</td>\n",
              "      <td>-0.638672</td>\n",
              "      <td>0.101288</td>\n",
              "      <td>-0.339846</td>\n",
              "      <td>0.167170</td>\n",
              "      <td>0.125895</td>\n",
              "      <td>-0.008983</td>\n",
              "      <td>0.014724</td>\n",
              "      <td>2.69</td>\n",
              "      <td>0</td>\n",
              "    </tr>\n",
              "    <tr>\n",
              "      <th>2</th>\n",
              "      <td>1.0</td>\n",
              "      <td>-1.358354</td>\n",
              "      <td>-1.340163</td>\n",
              "      <td>1.773209</td>\n",
              "      <td>0.379780</td>\n",
              "      <td>-0.503198</td>\n",
              "      <td>1.800499</td>\n",
              "      <td>0.791461</td>\n",
              "      <td>0.247676</td>\n",
              "      <td>-1.514654</td>\n",
              "      <td>...</td>\n",
              "      <td>0.247998</td>\n",
              "      <td>0.771679</td>\n",
              "      <td>0.909412</td>\n",
              "      <td>-0.689281</td>\n",
              "      <td>-0.327642</td>\n",
              "      <td>-0.139097</td>\n",
              "      <td>-0.055353</td>\n",
              "      <td>-0.059752</td>\n",
              "      <td>378.66</td>\n",
              "      <td>0</td>\n",
              "    </tr>\n",
              "    <tr>\n",
              "      <th>3</th>\n",
              "      <td>1.0</td>\n",
              "      <td>-0.966272</td>\n",
              "      <td>-0.185226</td>\n",
              "      <td>1.792993</td>\n",
              "      <td>-0.863291</td>\n",
              "      <td>-0.010309</td>\n",
              "      <td>1.247203</td>\n",
              "      <td>0.237609</td>\n",
              "      <td>0.377436</td>\n",
              "      <td>-1.387024</td>\n",
              "      <td>...</td>\n",
              "      <td>-0.108300</td>\n",
              "      <td>0.005274</td>\n",
              "      <td>-0.190321</td>\n",
              "      <td>-1.175575</td>\n",
              "      <td>0.647376</td>\n",
              "      <td>-0.221929</td>\n",
              "      <td>0.062723</td>\n",
              "      <td>0.061458</td>\n",
              "      <td>123.50</td>\n",
              "      <td>0</td>\n",
              "    </tr>\n",
              "    <tr>\n",
              "      <th>4</th>\n",
              "      <td>2.0</td>\n",
              "      <td>-1.158233</td>\n",
              "      <td>0.877737</td>\n",
              "      <td>1.548718</td>\n",
              "      <td>0.403034</td>\n",
              "      <td>-0.407193</td>\n",
              "      <td>0.095921</td>\n",
              "      <td>0.592941</td>\n",
              "      <td>-0.270533</td>\n",
              "      <td>0.817739</td>\n",
              "      <td>...</td>\n",
              "      <td>-0.009431</td>\n",
              "      <td>0.798278</td>\n",
              "      <td>-0.137458</td>\n",
              "      <td>0.141267</td>\n",
              "      <td>-0.206010</td>\n",
              "      <td>0.502292</td>\n",
              "      <td>0.219422</td>\n",
              "      <td>0.215153</td>\n",
              "      <td>69.99</td>\n",
              "      <td>0</td>\n",
              "    </tr>\n",
              "  </tbody>\n",
              "</table>\n",
              "<p>5 rows × 31 columns</p>\n",
              "</div>\n",
              "      <button class=\"colab-df-convert\" onclick=\"convertToInteractive('df-059cde63-ee2c-433b-8e6c-4b8968c6ed26')\"\n",
              "              title=\"Convert this dataframe to an interactive table.\"\n",
              "              style=\"display:none;\">\n",
              "        \n",
              "  <svg xmlns=\"http://www.w3.org/2000/svg\" height=\"24px\"viewBox=\"0 0 24 24\"\n",
              "       width=\"24px\">\n",
              "    <path d=\"M0 0h24v24H0V0z\" fill=\"none\"/>\n",
              "    <path d=\"M18.56 5.44l.94 2.06.94-2.06 2.06-.94-2.06-.94-.94-2.06-.94 2.06-2.06.94zm-11 1L8.5 8.5l.94-2.06 2.06-.94-2.06-.94L8.5 2.5l-.94 2.06-2.06.94zm10 10l.94 2.06.94-2.06 2.06-.94-2.06-.94-.94-2.06-.94 2.06-2.06.94z\"/><path d=\"M17.41 7.96l-1.37-1.37c-.4-.4-.92-.59-1.43-.59-.52 0-1.04.2-1.43.59L10.3 9.45l-7.72 7.72c-.78.78-.78 2.05 0 2.83L4 21.41c.39.39.9.59 1.41.59.51 0 1.02-.2 1.41-.59l7.78-7.78 2.81-2.81c.8-.78.8-2.07 0-2.86zM5.41 20L4 18.59l7.72-7.72 1.47 1.35L5.41 20z\"/>\n",
              "  </svg>\n",
              "      </button>\n",
              "      \n",
              "  <style>\n",
              "    .colab-df-container {\n",
              "      display:flex;\n",
              "      flex-wrap:wrap;\n",
              "      gap: 12px;\n",
              "    }\n",
              "\n",
              "    .colab-df-convert {\n",
              "      background-color: #E8F0FE;\n",
              "      border: none;\n",
              "      border-radius: 50%;\n",
              "      cursor: pointer;\n",
              "      display: none;\n",
              "      fill: #1967D2;\n",
              "      height: 32px;\n",
              "      padding: 0 0 0 0;\n",
              "      width: 32px;\n",
              "    }\n",
              "\n",
              "    .colab-df-convert:hover {\n",
              "      background-color: #E2EBFA;\n",
              "      box-shadow: 0px 1px 2px rgba(60, 64, 67, 0.3), 0px 1px 3px 1px rgba(60, 64, 67, 0.15);\n",
              "      fill: #174EA6;\n",
              "    }\n",
              "\n",
              "    [theme=dark] .colab-df-convert {\n",
              "      background-color: #3B4455;\n",
              "      fill: #D2E3FC;\n",
              "    }\n",
              "\n",
              "    [theme=dark] .colab-df-convert:hover {\n",
              "      background-color: #434B5C;\n",
              "      box-shadow: 0px 1px 3px 1px rgba(0, 0, 0, 0.15);\n",
              "      filter: drop-shadow(0px 1px 2px rgba(0, 0, 0, 0.3));\n",
              "      fill: #FFFFFF;\n",
              "    }\n",
              "  </style>\n",
              "\n",
              "      <script>\n",
              "        const buttonEl =\n",
              "          document.querySelector('#df-059cde63-ee2c-433b-8e6c-4b8968c6ed26 button.colab-df-convert');\n",
              "        buttonEl.style.display =\n",
              "          google.colab.kernel.accessAllowed ? 'block' : 'none';\n",
              "\n",
              "        async function convertToInteractive(key) {\n",
              "          const element = document.querySelector('#df-059cde63-ee2c-433b-8e6c-4b8968c6ed26');\n",
              "          const dataTable =\n",
              "            await google.colab.kernel.invokeFunction('convertToInteractive',\n",
              "                                                     [key], {});\n",
              "          if (!dataTable) return;\n",
              "\n",
              "          const docLinkHtml = 'Like what you see? Visit the ' +\n",
              "            '<a target=\"_blank\" href=https://colab.research.google.com/notebooks/data_table.ipynb>data table notebook</a>'\n",
              "            + ' to learn more about interactive tables.';\n",
              "          element.innerHTML = '';\n",
              "          dataTable['output_type'] = 'display_data';\n",
              "          await google.colab.output.renderOutput(dataTable, element);\n",
              "          const docLink = document.createElement('div');\n",
              "          docLink.innerHTML = docLinkHtml;\n",
              "          element.appendChild(docLink);\n",
              "        }\n",
              "      </script>\n",
              "    </div>\n",
              "  </div>\n",
              "  "
            ],
            "text/plain": [
              "   Time        V1        V2        V3        V4        V5        V6        V7  \\\n",
              "0   0.0 -1.359807 -0.072781  2.536347  1.378155 -0.338321  0.462388  0.239599   \n",
              "1   0.0  1.191857  0.266151  0.166480  0.448154  0.060018 -0.082361 -0.078803   \n",
              "2   1.0 -1.358354 -1.340163  1.773209  0.379780 -0.503198  1.800499  0.791461   \n",
              "3   1.0 -0.966272 -0.185226  1.792993 -0.863291 -0.010309  1.247203  0.237609   \n",
              "4   2.0 -1.158233  0.877737  1.548718  0.403034 -0.407193  0.095921  0.592941   \n",
              "\n",
              "         V8        V9  ...       V21       V22       V23       V24       V25  \\\n",
              "0  0.098698  0.363787  ... -0.018307  0.277838 -0.110474  0.066928  0.128539   \n",
              "1  0.085102 -0.255425  ... -0.225775 -0.638672  0.101288 -0.339846  0.167170   \n",
              "2  0.247676 -1.514654  ...  0.247998  0.771679  0.909412 -0.689281 -0.327642   \n",
              "3  0.377436 -1.387024  ... -0.108300  0.005274 -0.190321 -1.175575  0.647376   \n",
              "4 -0.270533  0.817739  ... -0.009431  0.798278 -0.137458  0.141267 -0.206010   \n",
              "\n",
              "        V26       V27       V28  Amount  Class  \n",
              "0 -0.189115  0.133558 -0.021053  149.62      0  \n",
              "1  0.125895 -0.008983  0.014724    2.69      0  \n",
              "2 -0.139097 -0.055353 -0.059752  378.66      0  \n",
              "3 -0.221929  0.062723  0.061458  123.50      0  \n",
              "4  0.502292  0.219422  0.215153   69.99      0  \n",
              "\n",
              "[5 rows x 31 columns]"
            ]
          },
          "execution_count": 3,
          "metadata": {},
          "output_type": "execute_result"
        }
      ],
      "source": [
        "df.head()"
      ],
      "id": "f5dd83ca"
    },
    {
      "cell_type": "code",
      "execution_count": null,
      "metadata": {
        "colab": {
          "base_uri": "https://localhost:8080/"
        },
        "id": "adca1185",
        "outputId": "9dfe8cee-0a29-41dc-81cc-30733f7a6b3f"
      },
      "outputs": [
        {
          "name": "stdout",
          "output_type": "stream",
          "text": [
            "<class 'pandas.core.frame.DataFrame'>\n",
            "RangeIndex: 284807 entries, 0 to 284806\n",
            "Data columns (total 31 columns):\n",
            " #   Column  Non-Null Count   Dtype  \n",
            "---  ------  --------------   -----  \n",
            " 0   Time    284807 non-null  float64\n",
            " 1   V1      284807 non-null  float64\n",
            " 2   V2      284807 non-null  float64\n",
            " 3   V3      284807 non-null  float64\n",
            " 4   V4      284807 non-null  float64\n",
            " 5   V5      284807 non-null  float64\n",
            " 6   V6      284807 non-null  float64\n",
            " 7   V7      284807 non-null  float64\n",
            " 8   V8      284807 non-null  float64\n",
            " 9   V9      284807 non-null  float64\n",
            " 10  V10     284807 non-null  float64\n",
            " 11  V11     284807 non-null  float64\n",
            " 12  V12     284807 non-null  float64\n",
            " 13  V13     284807 non-null  float64\n",
            " 14  V14     284807 non-null  float64\n",
            " 15  V15     284807 non-null  float64\n",
            " 16  V16     284807 non-null  float64\n",
            " 17  V17     284807 non-null  float64\n",
            " 18  V18     284807 non-null  float64\n",
            " 19  V19     284807 non-null  float64\n",
            " 20  V20     284807 non-null  float64\n",
            " 21  V21     284807 non-null  float64\n",
            " 22  V22     284807 non-null  float64\n",
            " 23  V23     284807 non-null  float64\n",
            " 24  V24     284807 non-null  float64\n",
            " 25  V25     284807 non-null  float64\n",
            " 26  V26     284807 non-null  float64\n",
            " 27  V27     284807 non-null  float64\n",
            " 28  V28     284807 non-null  float64\n",
            " 29  Amount  284807 non-null  float64\n",
            " 30  Class   284807 non-null  int64  \n",
            "dtypes: float64(30), int64(1)\n",
            "memory usage: 67.4 MB\n"
          ]
        }
      ],
      "source": [
        "df.info()"
      ],
      "id": "adca1185"
    },
    {
      "cell_type": "markdown",
      "metadata": {
        "id": "c0abf4a3"
      },
      "source": [
        "## Univariate analysis"
      ],
      "id": "c0abf4a3"
    },
    {
      "cell_type": "code",
      "execution_count": null,
      "metadata": {
        "colab": {
          "base_uri": "https://localhost:8080/",
          "height": 394
        },
        "id": "db394a12",
        "outputId": "bbdbed4a-f5f6-47b8-98c3-3a2b58c08576"
      },
      "outputs": [
        {
          "data": {
            "text/html": [
              "\n",
              "  <div id=\"df-b01b7bc5-1e0d-4067-ab5f-ca2bb7b3a034\">\n",
              "    <div class=\"colab-df-container\">\n",
              "      <div>\n",
              "<style scoped>\n",
              "    .dataframe tbody tr th:only-of-type {\n",
              "        vertical-align: middle;\n",
              "    }\n",
              "\n",
              "    .dataframe tbody tr th {\n",
              "        vertical-align: top;\n",
              "    }\n",
              "\n",
              "    .dataframe thead th {\n",
              "        text-align: right;\n",
              "    }\n",
              "</style>\n",
              "<table border=\"1\" class=\"dataframe\">\n",
              "  <thead>\n",
              "    <tr style=\"text-align: right;\">\n",
              "      <th></th>\n",
              "      <th>Time</th>\n",
              "      <th>V1</th>\n",
              "      <th>V2</th>\n",
              "      <th>V3</th>\n",
              "      <th>V4</th>\n",
              "      <th>V5</th>\n",
              "      <th>V6</th>\n",
              "      <th>V7</th>\n",
              "      <th>V8</th>\n",
              "      <th>V9</th>\n",
              "      <th>...</th>\n",
              "      <th>V21</th>\n",
              "      <th>V22</th>\n",
              "      <th>V23</th>\n",
              "      <th>V24</th>\n",
              "      <th>V25</th>\n",
              "      <th>V26</th>\n",
              "      <th>V27</th>\n",
              "      <th>V28</th>\n",
              "      <th>Amount</th>\n",
              "      <th>Class</th>\n",
              "    </tr>\n",
              "  </thead>\n",
              "  <tbody>\n",
              "    <tr>\n",
              "      <th>count</th>\n",
              "      <td>284807.000000</td>\n",
              "      <td>2.848070e+05</td>\n",
              "      <td>2.848070e+05</td>\n",
              "      <td>2.848070e+05</td>\n",
              "      <td>2.848070e+05</td>\n",
              "      <td>2.848070e+05</td>\n",
              "      <td>2.848070e+05</td>\n",
              "      <td>2.848070e+05</td>\n",
              "      <td>2.848070e+05</td>\n",
              "      <td>2.848070e+05</td>\n",
              "      <td>...</td>\n",
              "      <td>2.848070e+05</td>\n",
              "      <td>2.848070e+05</td>\n",
              "      <td>2.848070e+05</td>\n",
              "      <td>2.848070e+05</td>\n",
              "      <td>2.848070e+05</td>\n",
              "      <td>2.848070e+05</td>\n",
              "      <td>2.848070e+05</td>\n",
              "      <td>2.848070e+05</td>\n",
              "      <td>284807.000000</td>\n",
              "      <td>284807.000000</td>\n",
              "    </tr>\n",
              "    <tr>\n",
              "      <th>mean</th>\n",
              "      <td>94813.859575</td>\n",
              "      <td>1.168375e-15</td>\n",
              "      <td>3.416908e-16</td>\n",
              "      <td>-1.379537e-15</td>\n",
              "      <td>2.074095e-15</td>\n",
              "      <td>9.604066e-16</td>\n",
              "      <td>1.487313e-15</td>\n",
              "      <td>-5.556467e-16</td>\n",
              "      <td>1.213481e-16</td>\n",
              "      <td>-2.406331e-15</td>\n",
              "      <td>...</td>\n",
              "      <td>1.654067e-16</td>\n",
              "      <td>-3.568593e-16</td>\n",
              "      <td>2.578648e-16</td>\n",
              "      <td>4.473266e-15</td>\n",
              "      <td>5.340915e-16</td>\n",
              "      <td>1.683437e-15</td>\n",
              "      <td>-3.660091e-16</td>\n",
              "      <td>-1.227390e-16</td>\n",
              "      <td>88.349619</td>\n",
              "      <td>0.001727</td>\n",
              "    </tr>\n",
              "    <tr>\n",
              "      <th>std</th>\n",
              "      <td>47488.145955</td>\n",
              "      <td>1.958696e+00</td>\n",
              "      <td>1.651309e+00</td>\n",
              "      <td>1.516255e+00</td>\n",
              "      <td>1.415869e+00</td>\n",
              "      <td>1.380247e+00</td>\n",
              "      <td>1.332271e+00</td>\n",
              "      <td>1.237094e+00</td>\n",
              "      <td>1.194353e+00</td>\n",
              "      <td>1.098632e+00</td>\n",
              "      <td>...</td>\n",
              "      <td>7.345240e-01</td>\n",
              "      <td>7.257016e-01</td>\n",
              "      <td>6.244603e-01</td>\n",
              "      <td>6.056471e-01</td>\n",
              "      <td>5.212781e-01</td>\n",
              "      <td>4.822270e-01</td>\n",
              "      <td>4.036325e-01</td>\n",
              "      <td>3.300833e-01</td>\n",
              "      <td>250.120109</td>\n",
              "      <td>0.041527</td>\n",
              "    </tr>\n",
              "    <tr>\n",
              "      <th>min</th>\n",
              "      <td>0.000000</td>\n",
              "      <td>-5.640751e+01</td>\n",
              "      <td>-7.271573e+01</td>\n",
              "      <td>-4.832559e+01</td>\n",
              "      <td>-5.683171e+00</td>\n",
              "      <td>-1.137433e+02</td>\n",
              "      <td>-2.616051e+01</td>\n",
              "      <td>-4.355724e+01</td>\n",
              "      <td>-7.321672e+01</td>\n",
              "      <td>-1.343407e+01</td>\n",
              "      <td>...</td>\n",
              "      <td>-3.483038e+01</td>\n",
              "      <td>-1.093314e+01</td>\n",
              "      <td>-4.480774e+01</td>\n",
              "      <td>-2.836627e+00</td>\n",
              "      <td>-1.029540e+01</td>\n",
              "      <td>-2.604551e+00</td>\n",
              "      <td>-2.256568e+01</td>\n",
              "      <td>-1.543008e+01</td>\n",
              "      <td>0.000000</td>\n",
              "      <td>0.000000</td>\n",
              "    </tr>\n",
              "    <tr>\n",
              "      <th>25%</th>\n",
              "      <td>54201.500000</td>\n",
              "      <td>-9.203734e-01</td>\n",
              "      <td>-5.985499e-01</td>\n",
              "      <td>-8.903648e-01</td>\n",
              "      <td>-8.486401e-01</td>\n",
              "      <td>-6.915971e-01</td>\n",
              "      <td>-7.682956e-01</td>\n",
              "      <td>-5.540759e-01</td>\n",
              "      <td>-2.086297e-01</td>\n",
              "      <td>-6.430976e-01</td>\n",
              "      <td>...</td>\n",
              "      <td>-2.283949e-01</td>\n",
              "      <td>-5.423504e-01</td>\n",
              "      <td>-1.618463e-01</td>\n",
              "      <td>-3.545861e-01</td>\n",
              "      <td>-3.171451e-01</td>\n",
              "      <td>-3.269839e-01</td>\n",
              "      <td>-7.083953e-02</td>\n",
              "      <td>-5.295979e-02</td>\n",
              "      <td>5.600000</td>\n",
              "      <td>0.000000</td>\n",
              "    </tr>\n",
              "    <tr>\n",
              "      <th>50%</th>\n",
              "      <td>84692.000000</td>\n",
              "      <td>1.810880e-02</td>\n",
              "      <td>6.548556e-02</td>\n",
              "      <td>1.798463e-01</td>\n",
              "      <td>-1.984653e-02</td>\n",
              "      <td>-5.433583e-02</td>\n",
              "      <td>-2.741871e-01</td>\n",
              "      <td>4.010308e-02</td>\n",
              "      <td>2.235804e-02</td>\n",
              "      <td>-5.142873e-02</td>\n",
              "      <td>...</td>\n",
              "      <td>-2.945017e-02</td>\n",
              "      <td>6.781943e-03</td>\n",
              "      <td>-1.119293e-02</td>\n",
              "      <td>4.097606e-02</td>\n",
              "      <td>1.659350e-02</td>\n",
              "      <td>-5.213911e-02</td>\n",
              "      <td>1.342146e-03</td>\n",
              "      <td>1.124383e-02</td>\n",
              "      <td>22.000000</td>\n",
              "      <td>0.000000</td>\n",
              "    </tr>\n",
              "    <tr>\n",
              "      <th>75%</th>\n",
              "      <td>139320.500000</td>\n",
              "      <td>1.315642e+00</td>\n",
              "      <td>8.037239e-01</td>\n",
              "      <td>1.027196e+00</td>\n",
              "      <td>7.433413e-01</td>\n",
              "      <td>6.119264e-01</td>\n",
              "      <td>3.985649e-01</td>\n",
              "      <td>5.704361e-01</td>\n",
              "      <td>3.273459e-01</td>\n",
              "      <td>5.971390e-01</td>\n",
              "      <td>...</td>\n",
              "      <td>1.863772e-01</td>\n",
              "      <td>5.285536e-01</td>\n",
              "      <td>1.476421e-01</td>\n",
              "      <td>4.395266e-01</td>\n",
              "      <td>3.507156e-01</td>\n",
              "      <td>2.409522e-01</td>\n",
              "      <td>9.104512e-02</td>\n",
              "      <td>7.827995e-02</td>\n",
              "      <td>77.165000</td>\n",
              "      <td>0.000000</td>\n",
              "    </tr>\n",
              "    <tr>\n",
              "      <th>max</th>\n",
              "      <td>172792.000000</td>\n",
              "      <td>2.454930e+00</td>\n",
              "      <td>2.205773e+01</td>\n",
              "      <td>9.382558e+00</td>\n",
              "      <td>1.687534e+01</td>\n",
              "      <td>3.480167e+01</td>\n",
              "      <td>7.330163e+01</td>\n",
              "      <td>1.205895e+02</td>\n",
              "      <td>2.000721e+01</td>\n",
              "      <td>1.559499e+01</td>\n",
              "      <td>...</td>\n",
              "      <td>2.720284e+01</td>\n",
              "      <td>1.050309e+01</td>\n",
              "      <td>2.252841e+01</td>\n",
              "      <td>4.584549e+00</td>\n",
              "      <td>7.519589e+00</td>\n",
              "      <td>3.517346e+00</td>\n",
              "      <td>3.161220e+01</td>\n",
              "      <td>3.384781e+01</td>\n",
              "      <td>25691.160000</td>\n",
              "      <td>1.000000</td>\n",
              "    </tr>\n",
              "  </tbody>\n",
              "</table>\n",
              "<p>8 rows × 31 columns</p>\n",
              "</div>\n",
              "      <button class=\"colab-df-convert\" onclick=\"convertToInteractive('df-b01b7bc5-1e0d-4067-ab5f-ca2bb7b3a034')\"\n",
              "              title=\"Convert this dataframe to an interactive table.\"\n",
              "              style=\"display:none;\">\n",
              "        \n",
              "  <svg xmlns=\"http://www.w3.org/2000/svg\" height=\"24px\"viewBox=\"0 0 24 24\"\n",
              "       width=\"24px\">\n",
              "    <path d=\"M0 0h24v24H0V0z\" fill=\"none\"/>\n",
              "    <path d=\"M18.56 5.44l.94 2.06.94-2.06 2.06-.94-2.06-.94-.94-2.06-.94 2.06-2.06.94zm-11 1L8.5 8.5l.94-2.06 2.06-.94-2.06-.94L8.5 2.5l-.94 2.06-2.06.94zm10 10l.94 2.06.94-2.06 2.06-.94-2.06-.94-.94-2.06-.94 2.06-2.06.94z\"/><path d=\"M17.41 7.96l-1.37-1.37c-.4-.4-.92-.59-1.43-.59-.52 0-1.04.2-1.43.59L10.3 9.45l-7.72 7.72c-.78.78-.78 2.05 0 2.83L4 21.41c.39.39.9.59 1.41.59.51 0 1.02-.2 1.41-.59l7.78-7.78 2.81-2.81c.8-.78.8-2.07 0-2.86zM5.41 20L4 18.59l7.72-7.72 1.47 1.35L5.41 20z\"/>\n",
              "  </svg>\n",
              "      </button>\n",
              "      \n",
              "  <style>\n",
              "    .colab-df-container {\n",
              "      display:flex;\n",
              "      flex-wrap:wrap;\n",
              "      gap: 12px;\n",
              "    }\n",
              "\n",
              "    .colab-df-convert {\n",
              "      background-color: #E8F0FE;\n",
              "      border: none;\n",
              "      border-radius: 50%;\n",
              "      cursor: pointer;\n",
              "      display: none;\n",
              "      fill: #1967D2;\n",
              "      height: 32px;\n",
              "      padding: 0 0 0 0;\n",
              "      width: 32px;\n",
              "    }\n",
              "\n",
              "    .colab-df-convert:hover {\n",
              "      background-color: #E2EBFA;\n",
              "      box-shadow: 0px 1px 2px rgba(60, 64, 67, 0.3), 0px 1px 3px 1px rgba(60, 64, 67, 0.15);\n",
              "      fill: #174EA6;\n",
              "    }\n",
              "\n",
              "    [theme=dark] .colab-df-convert {\n",
              "      background-color: #3B4455;\n",
              "      fill: #D2E3FC;\n",
              "    }\n",
              "\n",
              "    [theme=dark] .colab-df-convert:hover {\n",
              "      background-color: #434B5C;\n",
              "      box-shadow: 0px 1px 3px 1px rgba(0, 0, 0, 0.15);\n",
              "      filter: drop-shadow(0px 1px 2px rgba(0, 0, 0, 0.3));\n",
              "      fill: #FFFFFF;\n",
              "    }\n",
              "  </style>\n",
              "\n",
              "      <script>\n",
              "        const buttonEl =\n",
              "          document.querySelector('#df-b01b7bc5-1e0d-4067-ab5f-ca2bb7b3a034 button.colab-df-convert');\n",
              "        buttonEl.style.display =\n",
              "          google.colab.kernel.accessAllowed ? 'block' : 'none';\n",
              "\n",
              "        async function convertToInteractive(key) {\n",
              "          const element = document.querySelector('#df-b01b7bc5-1e0d-4067-ab5f-ca2bb7b3a034');\n",
              "          const dataTable =\n",
              "            await google.colab.kernel.invokeFunction('convertToInteractive',\n",
              "                                                     [key], {});\n",
              "          if (!dataTable) return;\n",
              "\n",
              "          const docLinkHtml = 'Like what you see? Visit the ' +\n",
              "            '<a target=\"_blank\" href=https://colab.research.google.com/notebooks/data_table.ipynb>data table notebook</a>'\n",
              "            + ' to learn more about interactive tables.';\n",
              "          element.innerHTML = '';\n",
              "          dataTable['output_type'] = 'display_data';\n",
              "          await google.colab.output.renderOutput(dataTable, element);\n",
              "          const docLink = document.createElement('div');\n",
              "          docLink.innerHTML = docLinkHtml;\n",
              "          element.appendChild(docLink);\n",
              "        }\n",
              "      </script>\n",
              "    </div>\n",
              "  </div>\n",
              "  "
            ],
            "text/plain": [
              "                Time            V1            V2            V3            V4  \\\n",
              "count  284807.000000  2.848070e+05  2.848070e+05  2.848070e+05  2.848070e+05   \n",
              "mean    94813.859575  1.168375e-15  3.416908e-16 -1.379537e-15  2.074095e-15   \n",
              "std     47488.145955  1.958696e+00  1.651309e+00  1.516255e+00  1.415869e+00   \n",
              "min         0.000000 -5.640751e+01 -7.271573e+01 -4.832559e+01 -5.683171e+00   \n",
              "25%     54201.500000 -9.203734e-01 -5.985499e-01 -8.903648e-01 -8.486401e-01   \n",
              "50%     84692.000000  1.810880e-02  6.548556e-02  1.798463e-01 -1.984653e-02   \n",
              "75%    139320.500000  1.315642e+00  8.037239e-01  1.027196e+00  7.433413e-01   \n",
              "max    172792.000000  2.454930e+00  2.205773e+01  9.382558e+00  1.687534e+01   \n",
              "\n",
              "                 V5            V6            V7            V8            V9  \\\n",
              "count  2.848070e+05  2.848070e+05  2.848070e+05  2.848070e+05  2.848070e+05   \n",
              "mean   9.604066e-16  1.487313e-15 -5.556467e-16  1.213481e-16 -2.406331e-15   \n",
              "std    1.380247e+00  1.332271e+00  1.237094e+00  1.194353e+00  1.098632e+00   \n",
              "min   -1.137433e+02 -2.616051e+01 -4.355724e+01 -7.321672e+01 -1.343407e+01   \n",
              "25%   -6.915971e-01 -7.682956e-01 -5.540759e-01 -2.086297e-01 -6.430976e-01   \n",
              "50%   -5.433583e-02 -2.741871e-01  4.010308e-02  2.235804e-02 -5.142873e-02   \n",
              "75%    6.119264e-01  3.985649e-01  5.704361e-01  3.273459e-01  5.971390e-01   \n",
              "max    3.480167e+01  7.330163e+01  1.205895e+02  2.000721e+01  1.559499e+01   \n",
              "\n",
              "       ...           V21           V22           V23           V24  \\\n",
              "count  ...  2.848070e+05  2.848070e+05  2.848070e+05  2.848070e+05   \n",
              "mean   ...  1.654067e-16 -3.568593e-16  2.578648e-16  4.473266e-15   \n",
              "std    ...  7.345240e-01  7.257016e-01  6.244603e-01  6.056471e-01   \n",
              "min    ... -3.483038e+01 -1.093314e+01 -4.480774e+01 -2.836627e+00   \n",
              "25%    ... -2.283949e-01 -5.423504e-01 -1.618463e-01 -3.545861e-01   \n",
              "50%    ... -2.945017e-02  6.781943e-03 -1.119293e-02  4.097606e-02   \n",
              "75%    ...  1.863772e-01  5.285536e-01  1.476421e-01  4.395266e-01   \n",
              "max    ...  2.720284e+01  1.050309e+01  2.252841e+01  4.584549e+00   \n",
              "\n",
              "                V25           V26           V27           V28         Amount  \\\n",
              "count  2.848070e+05  2.848070e+05  2.848070e+05  2.848070e+05  284807.000000   \n",
              "mean   5.340915e-16  1.683437e-15 -3.660091e-16 -1.227390e-16      88.349619   \n",
              "std    5.212781e-01  4.822270e-01  4.036325e-01  3.300833e-01     250.120109   \n",
              "min   -1.029540e+01 -2.604551e+00 -2.256568e+01 -1.543008e+01       0.000000   \n",
              "25%   -3.171451e-01 -3.269839e-01 -7.083953e-02 -5.295979e-02       5.600000   \n",
              "50%    1.659350e-02 -5.213911e-02  1.342146e-03  1.124383e-02      22.000000   \n",
              "75%    3.507156e-01  2.409522e-01  9.104512e-02  7.827995e-02      77.165000   \n",
              "max    7.519589e+00  3.517346e+00  3.161220e+01  3.384781e+01   25691.160000   \n",
              "\n",
              "               Class  \n",
              "count  284807.000000  \n",
              "mean        0.001727  \n",
              "std         0.041527  \n",
              "min         0.000000  \n",
              "25%         0.000000  \n",
              "50%         0.000000  \n",
              "75%         0.000000  \n",
              "max         1.000000  \n",
              "\n",
              "[8 rows x 31 columns]"
            ]
          },
          "execution_count": 5,
          "metadata": {},
          "output_type": "execute_result"
        }
      ],
      "source": [
        "df.describe()"
      ],
      "id": "db394a12"
    },
    {
      "cell_type": "code",
      "execution_count": null,
      "metadata": {
        "id": "6198ab47"
      },
      "outputs": [],
      "source": [
        "df.drop(['Time'], axis=1,inplace=True)"
      ],
      "id": "6198ab47"
    },
    {
      "cell_type": "code",
      "execution_count": null,
      "metadata": {
        "colab": {
          "base_uri": "https://localhost:8080/",
          "height": 1000
        },
        "id": "9382b3da",
        "outputId": "38862c9d-6474-4483-e4ac-50fdb11c2164"
      },
      "outputs": [
        {
          "data": {
            "image/png": "[encoded data removed]",
            "text/plain": [
              "<Figure size 1080x1440 with 35 Axes>"
            ]
          },
          "metadata": {},
          "output_type": "display_data"
        }
      ],
      "source": [
        "fig, axes = plt.subplots(nrows=5, ncols=7,figsize=(15,20))\n",
        "fig.suptitle('Features vs Class\\n', size = 18)\n",
        "count=0\n",
        "for i in range(4):\n",
        "    for j in range(7):\n",
        "        sns.boxplot(ax=axes[i, j], data=df, x='Class', y=df.columns[count])\n",
        "        axes[i,j].set_title(f\"V{count+1} distribution\")\n",
        "        count+=1       \n",
        "plt.tight_layout()\n",
        "sns.boxplot(ax=axes[4,0], data=df, x='Class', y=\"Amount\")\n",
        "plt.show()"
      ],
      "id": "9382b3da"
    },
    {
      "cell_type": "code",
      "execution_count": null,
      "metadata": {
        "colab": {
          "base_uri": "https://localhost:8080/",
          "height": 1000
        },
        "id": "d4055a0a",
        "outputId": "13d891d5-9916-439a-8477-424d4c40d831"
      },
      "outputs": [
        {
          "data": {
            "image/png": "[encoded data removed]",
            "text/plain": [
              "<Figure size 1080x1440 with 35 Axes>"
            ]
          },
          "metadata": {},
          "output_type": "display_data"
        }
      ],
      "source": [
        "fig, axes = plt.subplots(nrows=7, ncols=5,figsize=(15,20))\n",
        "fig.suptitle('Features distribution\\n', size = 18)\n",
        "count=0\n",
        "for i in range(7):\n",
        "    for j in range(4):\n",
        "        sns.kdeplot(ax=axes[i, j], data=df, x=f\"V{count+1}\")\n",
        "        axes[i,j].set_title(f\"V{count+1} distribution\")\n",
        "        count+=1       \n",
        "plt.tight_layout()\n",
        "sns.kdeplot(ax=axes[0,4], data=df,x=\"Amount\")\n",
        "axes[0,4].set_title(\"Amount distribution\")\n",
        "plt.show()\n"
      ],
      "id": "d4055a0a"
    },
    {
      "cell_type": "markdown",
      "metadata": {
        "id": "bbcd2dc4"
      },
      "source": [
        "## Bivariate  Analysis"
      ],
      "id": "bbcd2dc4"
    },
    {
      "cell_type": "code",
      "execution_count": null,
      "metadata": {
        "colab": {
          "base_uri": "https://localhost:8080/",
          "height": 1000
        },
        "id": "b37c1a5f",
        "outputId": "dd6ab100-d0dc-4228-c946-745e2a9f7743"
      },
      "outputs": [
        {
          "data": {
            "text/html": [
              "\n",
              "  <div id=\"df-c55860c1-5907-49e3-a5f3-a629732280c2\">\n",
              "    <div class=\"colab-df-container\">\n",
              "      <div>\n",
              "<style scoped>\n",
              "    .dataframe tbody tr th:only-of-type {\n",
              "        vertical-align: middle;\n",
              "    }\n",
              "\n",
              "    .dataframe tbody tr th {\n",
              "        vertical-align: top;\n",
              "    }\n",
              "\n",
              "    .dataframe thead th {\n",
              "        text-align: right;\n",
              "    }\n",
              "</style>\n",
              "<table border=\"1\" class=\"dataframe\">\n",
              "  <thead>\n",
              "    <tr style=\"text-align: right;\">\n",
              "      <th></th>\n",
              "      <th>V1</th>\n",
              "      <th>V2</th>\n",
              "      <th>V3</th>\n",
              "      <th>V4</th>\n",
              "      <th>V5</th>\n",
              "      <th>V6</th>\n",
              "      <th>V7</th>\n",
              "      <th>V8</th>\n",
              "      <th>V9</th>\n",
              "      <th>V10</th>\n",
              "      <th>...</th>\n",
              "      <th>V21</th>\n",
              "      <th>V22</th>\n",
              "      <th>V23</th>\n",
              "      <th>V24</th>\n",
              "      <th>V25</th>\n",
              "      <th>V26</th>\n",
              "      <th>V27</th>\n",
              "      <th>V28</th>\n",
              "      <th>Amount</th>\n",
              "      <th>Class</th>\n",
              "    </tr>\n",
              "  </thead>\n",
              "  <tbody>\n",
              "    <tr>\n",
              "      <th>V1</th>\n",
              "      <td>1.000000e+00</td>\n",
              "      <td>4.135835e-16</td>\n",
              "      <td>-1.227819e-15</td>\n",
              "      <td>-9.215150e-16</td>\n",
              "      <td>1.812612e-17</td>\n",
              "      <td>-6.506567e-16</td>\n",
              "      <td>-1.005191e-15</td>\n",
              "      <td>-2.433822e-16</td>\n",
              "      <td>-1.513678e-16</td>\n",
              "      <td>7.388135e-17</td>\n",
              "      <td>...</td>\n",
              "      <td>-2.457409e-16</td>\n",
              "      <td>-4.290944e-16</td>\n",
              "      <td>6.168652e-16</td>\n",
              "      <td>-4.425156e-17</td>\n",
              "      <td>-9.605737e-16</td>\n",
              "      <td>-1.581290e-17</td>\n",
              "      <td>1.198124e-16</td>\n",
              "      <td>2.083082e-15</td>\n",
              "      <td>-0.227709</td>\n",
              "      <td>-0.101347</td>\n",
              "    </tr>\n",
              "    <tr>\n",
              "      <th>V2</th>\n",
              "      <td>4.135835e-16</td>\n",
              "      <td>1.000000e+00</td>\n",
              "      <td>3.243764e-16</td>\n",
              "      <td>-1.121065e-15</td>\n",
              "      <td>5.157519e-16</td>\n",
              "      <td>2.787346e-16</td>\n",
              "      <td>2.055934e-16</td>\n",
              "      <td>-5.377041e-17</td>\n",
              "      <td>1.978488e-17</td>\n",
              "      <td>-3.991394e-16</td>\n",
              "      <td>...</td>\n",
              "      <td>-8.480447e-17</td>\n",
              "      <td>1.526333e-16</td>\n",
              "      <td>1.634231e-16</td>\n",
              "      <td>1.247925e-17</td>\n",
              "      <td>-4.478846e-16</td>\n",
              "      <td>2.057310e-16</td>\n",
              "      <td>-4.966953e-16</td>\n",
              "      <td>-5.093836e-16</td>\n",
              "      <td>-0.531409</td>\n",
              "      <td>0.091289</td>\n",
              "    </tr>\n",
              "    <tr>\n",
              "      <th>V3</th>\n",
              "      <td>-1.227819e-15</td>\n",
              "      <td>3.243764e-16</td>\n",
              "      <td>1.000000e+00</td>\n",
              "      <td>4.711293e-16</td>\n",
              "      <td>-6.539009e-17</td>\n",
              "      <td>1.627627e-15</td>\n",
              "      <td>4.895305e-16</td>\n",
              "      <td>-1.268779e-15</td>\n",
              "      <td>5.568367e-16</td>\n",
              "      <td>1.156587e-15</td>\n",
              "      <td>...</td>\n",
              "      <td>5.706192e-17</td>\n",
              "      <td>-1.133902e-15</td>\n",
              "      <td>-4.983035e-16</td>\n",
              "      <td>2.686834e-19</td>\n",
              "      <td>-1.104734e-15</td>\n",
              "      <td>-1.238062e-16</td>\n",
              "      <td>1.045747e-15</td>\n",
              "      <td>9.775546e-16</td>\n",
              "      <td>-0.210880</td>\n",
              "      <td>-0.192961</td>\n",
              "    </tr>\n",
              "    <tr>\n",
              "      <th>V4</th>\n",
              "      <td>-9.215150e-16</td>\n",
              "      <td>-1.121065e-15</td>\n",
              "      <td>4.711293e-16</td>\n",
              "      <td>1.000000e+00</td>\n",
              "      <td>-1.719944e-15</td>\n",
              "      <td>-7.491959e-16</td>\n",
              "      <td>-4.104503e-16</td>\n",
              "      <td>5.697192e-16</td>\n",
              "      <td>6.923247e-16</td>\n",
              "      <td>2.232685e-16</td>\n",
              "      <td>...</td>\n",
              "      <td>-1.949553e-16</td>\n",
              "      <td>-6.276051e-17</td>\n",
              "      <td>9.164206e-17</td>\n",
              "      <td>1.584638e-16</td>\n",
              "      <td>6.070716e-16</td>\n",
              "      <td>-4.247268e-16</td>\n",
              "      <td>3.977061e-17</td>\n",
              "      <td>-2.761403e-18</td>\n",
              "      <td>0.098732</td>\n",
              "      <td>0.133447</td>\n",
              "    </tr>\n",
              "    <tr>\n",
              "      <th>V5</th>\n",
              "      <td>1.812612e-17</td>\n",
              "      <td>5.157519e-16</td>\n",
              "      <td>-6.539009e-17</td>\n",
              "      <td>-1.719944e-15</td>\n",
              "      <td>1.000000e+00</td>\n",
              "      <td>2.408382e-16</td>\n",
              "      <td>2.715541e-16</td>\n",
              "      <td>7.437229e-16</td>\n",
              "      <td>7.391702e-16</td>\n",
              "      <td>-5.202306e-16</td>\n",
              "      <td>...</td>\n",
              "      <td>-3.920976e-16</td>\n",
              "      <td>1.253751e-16</td>\n",
              "      <td>-8.428683e-18</td>\n",
              "      <td>-1.149255e-15</td>\n",
              "      <td>4.808532e-16</td>\n",
              "      <td>4.319541e-16</td>\n",
              "      <td>6.590482e-16</td>\n",
              "      <td>-5.613951e-18</td>\n",
              "      <td>-0.386356</td>\n",
              "      <td>-0.094974</td>\n",
              "    </tr>\n",
              "    <tr>\n",
              "      <th>V6</th>\n",
              "      <td>-6.506567e-16</td>\n",
              "      <td>2.787346e-16</td>\n",
              "      <td>1.627627e-15</td>\n",
              "      <td>-7.491959e-16</td>\n",
              "      <td>2.408382e-16</td>\n",
              "      <td>1.000000e+00</td>\n",
              "      <td>1.191668e-16</td>\n",
              "      <td>-1.104219e-16</td>\n",
              "      <td>4.131207e-16</td>\n",
              "      <td>5.932243e-17</td>\n",
              "      <td>...</td>\n",
              "      <td>5.833316e-17</td>\n",
              "      <td>-4.705235e-19</td>\n",
              "      <td>1.046712e-16</td>\n",
              "      <td>-1.071589e-15</td>\n",
              "      <td>4.562861e-16</td>\n",
              "      <td>-1.357067e-16</td>\n",
              "      <td>-4.452461e-16</td>\n",
              "      <td>2.594754e-16</td>\n",
              "      <td>0.215981</td>\n",
              "      <td>-0.043643</td>\n",
              "    </tr>\n",
              "    <tr>\n",
              "      <th>V7</th>\n",
              "      <td>-1.005191e-15</td>\n",
              "      <td>2.055934e-16</td>\n",
              "      <td>4.895305e-16</td>\n",
              "      <td>-4.104503e-16</td>\n",
              "      <td>2.715541e-16</td>\n",
              "      <td>1.191668e-16</td>\n",
              "      <td>1.000000e+00</td>\n",
              "      <td>3.344412e-16</td>\n",
              "      <td>1.122501e-15</td>\n",
              "      <td>-7.492834e-17</td>\n",
              "      <td>...</td>\n",
              "      <td>-2.027779e-16</td>\n",
              "      <td>-8.898922e-16</td>\n",
              "      <td>-4.387401e-16</td>\n",
              "      <td>7.434913e-18</td>\n",
              "      <td>-3.094082e-16</td>\n",
              "      <td>-9.657637e-16</td>\n",
              "      <td>-1.782106e-15</td>\n",
              "      <td>-2.776530e-16</td>\n",
              "      <td>0.397311</td>\n",
              "      <td>-0.187257</td>\n",
              "    </tr>\n",
              "    <tr>\n",
              "      <th>V8</th>\n",
              "      <td>-2.433822e-16</td>\n",
              "      <td>-5.377041e-17</td>\n",
              "      <td>-1.268779e-15</td>\n",
              "      <td>5.697192e-16</td>\n",
              "      <td>7.437229e-16</td>\n",
              "      <td>-1.104219e-16</td>\n",
              "      <td>3.344412e-16</td>\n",
              "      <td>1.000000e+00</td>\n",
              "      <td>4.356078e-16</td>\n",
              "      <td>-2.801370e-16</td>\n",
              "      <td>...</td>\n",
              "      <td>3.892798e-16</td>\n",
              "      <td>2.026927e-16</td>\n",
              "      <td>6.377260e-17</td>\n",
              "      <td>-1.047097e-16</td>\n",
              "      <td>-4.653279e-16</td>\n",
              "      <td>-1.727276e-16</td>\n",
              "      <td>1.299943e-16</td>\n",
              "      <td>-6.200930e-16</td>\n",
              "      <td>-0.103079</td>\n",
              "      <td>0.019875</td>\n",
              "    </tr>\n",
              "    <tr>\n",
              "      <th>V9</th>\n",
              "      <td>-1.513678e-16</td>\n",
              "      <td>1.978488e-17</td>\n",
              "      <td>5.568367e-16</td>\n",
              "      <td>6.923247e-16</td>\n",
              "      <td>7.391702e-16</td>\n",
              "      <td>4.131207e-16</td>\n",
              "      <td>1.122501e-15</td>\n",
              "      <td>4.356078e-16</td>\n",
              "      <td>1.000000e+00</td>\n",
              "      <td>-4.642274e-16</td>\n",
              "      <td>...</td>\n",
              "      <td>1.936953e-16</td>\n",
              "      <td>-7.071869e-16</td>\n",
              "      <td>-5.214137e-16</td>\n",
              "      <td>-1.430343e-16</td>\n",
              "      <td>6.757763e-16</td>\n",
              "      <td>-7.888853e-16</td>\n",
              "      <td>-6.709655e-17</td>\n",
              "      <td>1.110541e-15</td>\n",
              "      <td>-0.044246</td>\n",
              "      <td>-0.097733</td>\n",
              "    </tr>\n",
              "    <tr>\n",
              "      <th>V10</th>\n",
              "      <td>7.388135e-17</td>\n",
              "      <td>-3.991394e-16</td>\n",
              "      <td>1.156587e-15</td>\n",
              "      <td>2.232685e-16</td>\n",
              "      <td>-5.202306e-16</td>\n",
              "      <td>5.932243e-17</td>\n",
              "      <td>-7.492834e-17</td>\n",
              "      <td>-2.801370e-16</td>\n",
              "      <td>-4.642274e-16</td>\n",
              "      <td>1.000000e+00</td>\n",
              "      <td>...</td>\n",
              "      <td>1.177547e-15</td>\n",
              "      <td>-6.418202e-16</td>\n",
              "      <td>3.214491e-16</td>\n",
              "      <td>-1.355885e-16</td>\n",
              "      <td>-2.846052e-16</td>\n",
              "      <td>-3.028119e-16</td>\n",
              "      <td>-2.197977e-16</td>\n",
              "      <td>4.864782e-17</td>\n",
              "      <td>-0.101502</td>\n",
              "      <td>-0.216883</td>\n",
              "    </tr>\n",
              "    <tr>\n",
              "      <th>V11</th>\n",
              "      <td>2.125498e-16</td>\n",
              "      <td>1.975426e-16</td>\n",
              "      <td>1.576830e-15</td>\n",
              "      <td>3.459380e-16</td>\n",
              "      <td>7.203963e-16</td>\n",
              "      <td>1.980503e-15</td>\n",
              "      <td>1.425248e-16</td>\n",
              "      <td>2.487043e-16</td>\n",
              "      <td>1.354680e-16</td>\n",
              "      <td>-4.622103e-16</td>\n",
              "      <td>...</td>\n",
              "      <td>-5.658364e-16</td>\n",
              "      <td>7.772895e-16</td>\n",
              "      <td>-4.505332e-16</td>\n",
              "      <td>1.933267e-15</td>\n",
              "      <td>-5.600475e-16</td>\n",
              "      <td>-1.003221e-16</td>\n",
              "      <td>-2.640281e-16</td>\n",
              "      <td>-3.792314e-16</td>\n",
              "      <td>0.000104</td>\n",
              "      <td>0.154876</td>\n",
              "    </tr>\n",
              "    <tr>\n",
              "      <th>V12</th>\n",
              "      <td>2.053457e-16</td>\n",
              "      <td>-9.568710e-17</td>\n",
              "      <td>6.310231e-16</td>\n",
              "      <td>-5.625518e-16</td>\n",
              "      <td>7.412552e-16</td>\n",
              "      <td>2.375468e-16</td>\n",
              "      <td>-3.536655e-18</td>\n",
              "      <td>1.839891e-16</td>\n",
              "      <td>-1.079314e-15</td>\n",
              "      <td>1.771869e-15</td>\n",
              "      <td>...</td>\n",
              "      <td>7.300527e-16</td>\n",
              "      <td>1.644699e-16</td>\n",
              "      <td>1.800885e-16</td>\n",
              "      <td>4.436512e-16</td>\n",
              "      <td>-5.712973e-16</td>\n",
              "      <td>-2.359969e-16</td>\n",
              "      <td>-4.672391e-16</td>\n",
              "      <td>6.415167e-16</td>\n",
              "      <td>-0.009542</td>\n",
              "      <td>-0.260593</td>\n",
              "    </tr>\n",
              "    <tr>\n",
              "      <th>V13</th>\n",
              "      <td>-2.425603e-17</td>\n",
              "      <td>6.295388e-16</td>\n",
              "      <td>2.807652e-16</td>\n",
              "      <td>1.303306e-16</td>\n",
              "      <td>5.886991e-16</td>\n",
              "      <td>-1.211182e-16</td>\n",
              "      <td>1.266462e-17</td>\n",
              "      <td>-2.921856e-16</td>\n",
              "      <td>2.251072e-15</td>\n",
              "      <td>-5.418460e-16</td>\n",
              "      <td>...</td>\n",
              "      <td>1.008461e-16</td>\n",
              "      <td>6.747721e-17</td>\n",
              "      <td>-7.132064e-16</td>\n",
              "      <td>-1.397470e-16</td>\n",
              "      <td>-5.497612e-16</td>\n",
              "      <td>-1.769255e-16</td>\n",
              "      <td>-4.720898e-16</td>\n",
              "      <td>1.144372e-15</td>\n",
              "      <td>0.005293</td>\n",
              "      <td>-0.004570</td>\n",
              "    </tr>\n",
              "    <tr>\n",
              "      <th>V14</th>\n",
              "      <td>-5.020280e-16</td>\n",
              "      <td>-1.730566e-16</td>\n",
              "      <td>4.739859e-16</td>\n",
              "      <td>2.282280e-16</td>\n",
              "      <td>6.565143e-16</td>\n",
              "      <td>2.621312e-16</td>\n",
              "      <td>2.607772e-16</td>\n",
              "      <td>-8.599156e-16</td>\n",
              "      <td>3.784757e-15</td>\n",
              "      <td>2.635936e-16</td>\n",
              "      <td>...</td>\n",
              "      <td>-3.356561e-16</td>\n",
              "      <td>3.740383e-16</td>\n",
              "      <td>3.883204e-16</td>\n",
              "      <td>2.003482e-16</td>\n",
              "      <td>-8.547932e-16</td>\n",
              "      <td>-1.660327e-16</td>\n",
              "      <td>1.044274e-16</td>\n",
              "      <td>2.289427e-15</td>\n",
              "      <td>0.033751</td>\n",
              "      <td>-0.302544</td>\n",
              "    </tr>\n",
              "    <tr>\n",
              "      <th>V15</th>\n",
              "      <td>3.547782e-16</td>\n",
              "      <td>-4.995814e-17</td>\n",
              "      <td>9.068793e-16</td>\n",
              "      <td>1.377649e-16</td>\n",
              "      <td>-8.720275e-16</td>\n",
              "      <td>-1.531188e-15</td>\n",
              "      <td>-1.690540e-16</td>\n",
              "      <td>4.127777e-16</td>\n",
              "      <td>-1.051167e-15</td>\n",
              "      <td>5.786332e-16</td>\n",
              "      <td>...</td>\n",
              "      <td>6.605263e-17</td>\n",
              "      <td>-4.208921e-16</td>\n",
              "      <td>-3.912243e-16</td>\n",
              "      <td>-4.478263e-16</td>\n",
              "      <td>3.206423e-16</td>\n",
              "      <td>2.817791e-16</td>\n",
              "      <td>-1.143519e-15</td>\n",
              "      <td>-1.194130e-15</td>\n",
              "      <td>-0.002986</td>\n",
              "      <td>-0.004223</td>\n",
              "    </tr>\n",
              "    <tr>\n",
              "      <th>V16</th>\n",
              "      <td>7.212815e-17</td>\n",
              "      <td>1.177316e-17</td>\n",
              "      <td>8.299445e-16</td>\n",
              "      <td>-9.614528e-16</td>\n",
              "      <td>2.246261e-15</td>\n",
              "      <td>2.623672e-18</td>\n",
              "      <td>5.869302e-17</td>\n",
              "      <td>-5.254741e-16</td>\n",
              "      <td>-1.214086e-15</td>\n",
              "      <td>3.545450e-16</td>\n",
              "      <td>...</td>\n",
              "      <td>-4.715090e-16</td>\n",
              "      <td>-7.923387e-17</td>\n",
              "      <td>5.020770e-16</td>\n",
              "      <td>-3.005985e-16</td>\n",
              "      <td>-1.345418e-15</td>\n",
              "      <td>-7.290010e-16</td>\n",
              "      <td>6.789513e-16</td>\n",
              "      <td>7.588849e-16</td>\n",
              "      <td>-0.003910</td>\n",
              "      <td>-0.196539</td>\n",
              "    </tr>\n",
              "    <tr>\n",
              "      <th>V17</th>\n",
              "      <td>-3.879840e-16</td>\n",
              "      <td>-2.685296e-16</td>\n",
              "      <td>7.614712e-16</td>\n",
              "      <td>-2.699612e-16</td>\n",
              "      <td>1.281914e-16</td>\n",
              "      <td>2.015618e-16</td>\n",
              "      <td>2.177192e-16</td>\n",
              "      <td>-2.269549e-16</td>\n",
              "      <td>1.113695e-15</td>\n",
              "      <td>1.542955e-15</td>\n",
              "      <td>...</td>\n",
              "      <td>-8.230527e-16</td>\n",
              "      <td>-8.743398e-16</td>\n",
              "      <td>3.706214e-16</td>\n",
              "      <td>-2.403828e-16</td>\n",
              "      <td>2.666806e-16</td>\n",
              "      <td>6.932833e-16</td>\n",
              "      <td>6.148525e-16</td>\n",
              "      <td>-5.534540e-17</td>\n",
              "      <td>0.007309</td>\n",
              "      <td>-0.326481</td>\n",
              "    </tr>\n",
              "    <tr>\n",
              "      <th>V18</th>\n",
              "      <td>3.230206e-17</td>\n",
              "      <td>3.284605e-16</td>\n",
              "      <td>1.509897e-16</td>\n",
              "      <td>-5.103644e-16</td>\n",
              "      <td>5.308590e-16</td>\n",
              "      <td>1.223814e-16</td>\n",
              "      <td>7.604126e-17</td>\n",
              "      <td>-3.667974e-16</td>\n",
              "      <td>4.993240e-16</td>\n",
              "      <td>3.902423e-16</td>\n",
              "      <td>...</td>\n",
              "      <td>-9.408680e-16</td>\n",
              "      <td>-4.819365e-16</td>\n",
              "      <td>-1.912006e-16</td>\n",
              "      <td>-8.986916e-17</td>\n",
              "      <td>-6.629212e-17</td>\n",
              "      <td>2.990167e-16</td>\n",
              "      <td>2.242791e-16</td>\n",
              "      <td>7.976796e-16</td>\n",
              "      <td>0.035650</td>\n",
              "      <td>-0.111485</td>\n",
              "    </tr>\n",
              "    <tr>\n",
              "      <th>V19</th>\n",
              "      <td>1.502024e-16</td>\n",
              "      <td>-7.118719e-18</td>\n",
              "      <td>3.463522e-16</td>\n",
              "      <td>-3.980557e-16</td>\n",
              "      <td>-1.450421e-16</td>\n",
              "      <td>-1.865597e-16</td>\n",
              "      <td>-1.881008e-16</td>\n",
              "      <td>-3.875186e-16</td>\n",
              "      <td>-1.376135e-16</td>\n",
              "      <td>3.437633e-17</td>\n",
              "      <td>...</td>\n",
              "      <td>5.115885e-16</td>\n",
              "      <td>-1.163768e-15</td>\n",
              "      <td>7.032035e-16</td>\n",
              "      <td>2.587708e-17</td>\n",
              "      <td>9.577163e-16</td>\n",
              "      <td>5.898033e-16</td>\n",
              "      <td>-2.959370e-16</td>\n",
              "      <td>-1.405379e-15</td>\n",
              "      <td>-0.056151</td>\n",
              "      <td>0.034783</td>\n",
              "    </tr>\n",
              "    <tr>\n",
              "      <th>V20</th>\n",
              "      <td>4.654551e-16</td>\n",
              "      <td>2.506675e-16</td>\n",
              "      <td>-9.316409e-16</td>\n",
              "      <td>-1.857247e-16</td>\n",
              "      <td>-3.554057e-16</td>\n",
              "      <td>-1.858755e-16</td>\n",
              "      <td>9.379684e-16</td>\n",
              "      <td>2.033737e-16</td>\n",
              "      <td>-2.343720e-16</td>\n",
              "      <td>-1.331556e-15</td>\n",
              "      <td>...</td>\n",
              "      <td>-7.614597e-16</td>\n",
              "      <td>1.009285e-15</td>\n",
              "      <td>2.712885e-16</td>\n",
              "      <td>1.277215e-16</td>\n",
              "      <td>1.410054e-16</td>\n",
              "      <td>-2.803504e-16</td>\n",
              "      <td>-1.138829e-15</td>\n",
              "      <td>-2.436795e-16</td>\n",
              "      <td>0.339403</td>\n",
              "      <td>0.020090</td>\n",
              "    </tr>\n",
              "    <tr>\n",
              "      <th>V21</th>\n",
              "      <td>-2.457409e-16</td>\n",
              "      <td>-8.480447e-17</td>\n",
              "      <td>5.706192e-17</td>\n",
              "      <td>-1.949553e-16</td>\n",
              "      <td>-3.920976e-16</td>\n",
              "      <td>5.833316e-17</td>\n",
              "      <td>-2.027779e-16</td>\n",
              "      <td>3.892798e-16</td>\n",
              "      <td>1.936953e-16</td>\n",
              "      <td>1.177547e-15</td>\n",
              "      <td>...</td>\n",
              "      <td>1.000000e+00</td>\n",
              "      <td>3.649908e-15</td>\n",
              "      <td>8.119580e-16</td>\n",
              "      <td>1.761054e-16</td>\n",
              "      <td>-1.686082e-16</td>\n",
              "      <td>-5.557329e-16</td>\n",
              "      <td>-1.211281e-15</td>\n",
              "      <td>5.278775e-16</td>\n",
              "      <td>0.105999</td>\n",
              "      <td>0.040413</td>\n",
              "    </tr>\n",
              "    <tr>\n",
              "      <th>V22</th>\n",
              "      <td>-4.290944e-16</td>\n",
              "      <td>1.526333e-16</td>\n",
              "      <td>-1.133902e-15</td>\n",
              "      <td>-6.276051e-17</td>\n",
              "      <td>1.253751e-16</td>\n",
              "      <td>-4.705235e-19</td>\n",
              "      <td>-8.898922e-16</td>\n",
              "      <td>2.026927e-16</td>\n",
              "      <td>-7.071869e-16</td>\n",
              "      <td>-6.418202e-16</td>\n",
              "      <td>...</td>\n",
              "      <td>3.649908e-15</td>\n",
              "      <td>1.000000e+00</td>\n",
              "      <td>-7.303916e-17</td>\n",
              "      <td>9.970809e-17</td>\n",
              "      <td>-5.018575e-16</td>\n",
              "      <td>-2.503187e-17</td>\n",
              "      <td>8.461337e-17</td>\n",
              "      <td>-6.627203e-16</td>\n",
              "      <td>-0.064801</td>\n",
              "      <td>0.000805</td>\n",
              "    </tr>\n",
              "    <tr>\n",
              "      <th>V23</th>\n",
              "      <td>6.168652e-16</td>\n",
              "      <td>1.634231e-16</td>\n",
              "      <td>-4.983035e-16</td>\n",
              "      <td>9.164206e-17</td>\n",
              "      <td>-8.428683e-18</td>\n",
              "      <td>1.046712e-16</td>\n",
              "      <td>-4.387401e-16</td>\n",
              "      <td>6.377260e-17</td>\n",
              "      <td>-5.214137e-16</td>\n",
              "      <td>3.214491e-16</td>\n",
              "      <td>...</td>\n",
              "      <td>8.119580e-16</td>\n",
              "      <td>-7.303916e-17</td>\n",
              "      <td>1.000000e+00</td>\n",
              "      <td>2.130519e-17</td>\n",
              "      <td>-8.232727e-17</td>\n",
              "      <td>1.114524e-15</td>\n",
              "      <td>2.839721e-16</td>\n",
              "      <td>1.481903e-15</td>\n",
              "      <td>-0.112633</td>\n",
              "      <td>-0.002685</td>\n",
              "    </tr>\n",
              "    <tr>\n",
              "      <th>V24</th>\n",
              "      <td>-4.425156e-17</td>\n",
              "      <td>1.247925e-17</td>\n",
              "      <td>2.686834e-19</td>\n",
              "      <td>1.584638e-16</td>\n",
              "      <td>-1.149255e-15</td>\n",
              "      <td>-1.071589e-15</td>\n",
              "      <td>7.434913e-18</td>\n",
              "      <td>-1.047097e-16</td>\n",
              "      <td>-1.430343e-16</td>\n",
              "      <td>-1.355885e-16</td>\n",
              "      <td>...</td>\n",
              "      <td>1.761054e-16</td>\n",
              "      <td>9.970809e-17</td>\n",
              "      <td>2.130519e-17</td>\n",
              "      <td>1.000000e+00</td>\n",
              "      <td>1.015391e-15</td>\n",
              "      <td>1.343722e-16</td>\n",
              "      <td>-2.274142e-16</td>\n",
              "      <td>-2.819805e-16</td>\n",
              "      <td>0.005146</td>\n",
              "      <td>-0.007221</td>\n",
              "    </tr>\n",
              "    <tr>\n",
              "      <th>V25</th>\n",
              "      <td>-9.605737e-16</td>\n",
              "      <td>-4.478846e-16</td>\n",
              "      <td>-1.104734e-15</td>\n",
              "      <td>6.070716e-16</td>\n",
              "      <td>4.808532e-16</td>\n",
              "      <td>4.562861e-16</td>\n",
              "      <td>-3.094082e-16</td>\n",
              "      <td>-4.653279e-16</td>\n",
              "      <td>6.757763e-16</td>\n",
              "      <td>-2.846052e-16</td>\n",
              "      <td>...</td>\n",
              "      <td>-1.686082e-16</td>\n",
              "      <td>-5.018575e-16</td>\n",
              "      <td>-8.232727e-17</td>\n",
              "      <td>1.015391e-15</td>\n",
              "      <td>1.000000e+00</td>\n",
              "      <td>2.646517e-15</td>\n",
              "      <td>-6.406679e-16</td>\n",
              "      <td>-7.008939e-16</td>\n",
              "      <td>-0.047837</td>\n",
              "      <td>0.003308</td>\n",
              "    </tr>\n",
              "    <tr>\n",
              "      <th>V26</th>\n",
              "      <td>-1.581290e-17</td>\n",
              "      <td>2.057310e-16</td>\n",
              "      <td>-1.238062e-16</td>\n",
              "      <td>-4.247268e-16</td>\n",
              "      <td>4.319541e-16</td>\n",
              "      <td>-1.357067e-16</td>\n",
              "      <td>-9.657637e-16</td>\n",
              "      <td>-1.727276e-16</td>\n",
              "      <td>-7.888853e-16</td>\n",
              "      <td>-3.028119e-16</td>\n",
              "      <td>...</td>\n",
              "      <td>-5.557329e-16</td>\n",
              "      <td>-2.503187e-17</td>\n",
              "      <td>1.114524e-15</td>\n",
              "      <td>1.343722e-16</td>\n",
              "      <td>2.646517e-15</td>\n",
              "      <td>1.000000e+00</td>\n",
              "      <td>-3.667715e-16</td>\n",
              "      <td>-2.782204e-16</td>\n",
              "      <td>-0.003208</td>\n",
              "      <td>0.004455</td>\n",
              "    </tr>\n",
              "    <tr>\n",
              "      <th>V27</th>\n",
              "      <td>1.198124e-16</td>\n",
              "      <td>-4.966953e-16</td>\n",
              "      <td>1.045747e-15</td>\n",
              "      <td>3.977061e-17</td>\n",
              "      <td>6.590482e-16</td>\n",
              "      <td>-4.452461e-16</td>\n",
              "      <td>-1.782106e-15</td>\n",
              "      <td>1.299943e-16</td>\n",
              "      <td>-6.709655e-17</td>\n",
              "      <td>-2.197977e-16</td>\n",
              "      <td>...</td>\n",
              "      <td>-1.211281e-15</td>\n",
              "      <td>8.461337e-17</td>\n",
              "      <td>2.839721e-16</td>\n",
              "      <td>-2.274142e-16</td>\n",
              "      <td>-6.406679e-16</td>\n",
              "      <td>-3.667715e-16</td>\n",
              "      <td>1.000000e+00</td>\n",
              "      <td>-3.061287e-16</td>\n",
              "      <td>0.028825</td>\n",
              "      <td>0.017580</td>\n",
              "    </tr>\n",
              "    <tr>\n",
              "      <th>V28</th>\n",
              "      <td>2.083082e-15</td>\n",
              "      <td>-5.093836e-16</td>\n",
              "      <td>9.775546e-16</td>\n",
              "      <td>-2.761403e-18</td>\n",
              "      <td>-5.613951e-18</td>\n",
              "      <td>2.594754e-16</td>\n",
              "      <td>-2.776530e-16</td>\n",
              "      <td>-6.200930e-16</td>\n",
              "      <td>1.110541e-15</td>\n",
              "      <td>4.864782e-17</td>\n",
              "      <td>...</td>\n",
              "      <td>5.278775e-16</td>\n",
              "      <td>-6.627203e-16</td>\n",
              "      <td>1.481903e-15</td>\n",
              "      <td>-2.819805e-16</td>\n",
              "      <td>-7.008939e-16</td>\n",
              "      <td>-2.782204e-16</td>\n",
              "      <td>-3.061287e-16</td>\n",
              "      <td>1.000000e+00</td>\n",
              "      <td>0.010258</td>\n",
              "      <td>0.009536</td>\n",
              "    </tr>\n",
              "    <tr>\n",
              "      <th>Amount</th>\n",
              "      <td>-2.277087e-01</td>\n",
              "      <td>-5.314089e-01</td>\n",
              "      <td>-2.108805e-01</td>\n",
              "      <td>9.873167e-02</td>\n",
              "      <td>-3.863563e-01</td>\n",
              "      <td>2.159812e-01</td>\n",
              "      <td>3.973113e-01</td>\n",
              "      <td>-1.030791e-01</td>\n",
              "      <td>-4.424560e-02</td>\n",
              "      <td>-1.015021e-01</td>\n",
              "      <td>...</td>\n",
              "      <td>1.059989e-01</td>\n",
              "      <td>-6.480065e-02</td>\n",
              "      <td>-1.126326e-01</td>\n",
              "      <td>5.146217e-03</td>\n",
              "      <td>-4.783686e-02</td>\n",
              "      <td>-3.208037e-03</td>\n",
              "      <td>2.882546e-02</td>\n",
              "      <td>1.025822e-02</td>\n",
              "      <td>1.000000</td>\n",
              "      <td>0.005632</td>\n",
              "    </tr>\n",
              "    <tr>\n",
              "      <th>Class</th>\n",
              "      <td>-1.013473e-01</td>\n",
              "      <td>9.128865e-02</td>\n",
              "      <td>-1.929608e-01</td>\n",
              "      <td>1.334475e-01</td>\n",
              "      <td>-9.497430e-02</td>\n",
              "      <td>-4.364316e-02</td>\n",
              "      <td>-1.872566e-01</td>\n",
              "      <td>1.987512e-02</td>\n",
              "      <td>-9.773269e-02</td>\n",
              "      <td>-2.168829e-01</td>\n",
              "      <td>...</td>\n",
              "      <td>4.041338e-02</td>\n",
              "      <td>8.053175e-04</td>\n",
              "      <td>-2.685156e-03</td>\n",
              "      <td>-7.220907e-03</td>\n",
              "      <td>3.307706e-03</td>\n",
              "      <td>4.455398e-03</td>\n",
              "      <td>1.757973e-02</td>\n",
              "      <td>9.536041e-03</td>\n",
              "      <td>0.005632</td>\n",
              "      <td>1.000000</td>\n",
              "    </tr>\n",
              "  </tbody>\n",
              "</table>\n",
              "<p>30 rows × 30 columns</p>\n",
              "</div>\n",
              "      <button class=\"colab-df-convert\" onclick=\"convertToInteractive('df-c55860c1-5907-49e3-a5f3-a629732280c2')\"\n",
              "              title=\"Convert this dataframe to an interactive table.\"\n",
              "              style=\"display:none;\">\n",
              "        \n",
              "  <svg xmlns=\"http://www.w3.org/2000/svg\" height=\"24px\"viewBox=\"0 0 24 24\"\n",
              "       width=\"24px\">\n",
              "    <path d=\"M0 0h24v24H0V0z\" fill=\"none\"/>\n",
              "    <path d=\"M18.56 5.44l.94 2.06.94-2.06 2.06-.94-2.06-.94-.94-2.06-.94 2.06-2.06.94zm-11 1L8.5 8.5l.94-2.06 2.06-.94-2.06-.94L8.5 2.5l-.94 2.06-2.06.94zm10 10l.94 2.06.94-2.06 2.06-.94-2.06-.94-.94-2.06-.94 2.06-2.06.94z\"/><path d=\"M17.41 7.96l-1.37-1.37c-.4-.4-.92-.59-1.43-.59-.52 0-1.04.2-1.43.59L10.3 9.45l-7.72 7.72c-.78.78-.78 2.05 0 2.83L4 21.41c.39.39.9.59 1.41.59.51 0 1.02-.2 1.41-.59l7.78-7.78 2.81-2.81c.8-.78.8-2.07 0-2.86zM5.41 20L4 18.59l7.72-7.72 1.47 1.35L5.41 20z\"/>\n",
              "  </svg>\n",
              "      </button>\n",
              "      \n",
              "  <style>\n",
              "    .colab-df-container {\n",
              "      display:flex;\n",
              "      flex-wrap:wrap;\n",
              "      gap: 12px;\n",
              "    }\n",
              "\n",
              "    .colab-df-convert {\n",
              "      background-color: #E8F0FE;\n",
              "      border: none;\n",
              "      border-radius: 50%;\n",
              "      cursor: pointer;\n",
              "      display: none;\n",
              "      fill: #1967D2;\n",
              "      height: 32px;\n",
              "      padding: 0 0 0 0;\n",
              "      width: 32px;\n",
              "    }\n",
              "\n",
              "    .colab-df-convert:hover {\n",
              "      background-color: #E2EBFA;\n",
              "      box-shadow: 0px 1px 2px rgba(60, 64, 67, 0.3), 0px 1px 3px 1px rgba(60, 64, 67, 0.15);\n",
              "      fill: #174EA6;\n",
              "    }\n",
              "\n",
              "    [theme=dark] .colab-df-convert {\n",
              "      background-color: #3B4455;\n",
              "      fill: #D2E3FC;\n",
              "    }\n",
              "\n",
              "    [theme=dark] .colab-df-convert:hover {\n",
              "      background-color: #434B5C;\n",
              "      box-shadow: 0px 1px 3px 1px rgba(0, 0, 0, 0.15);\n",
              "      filter: drop-shadow(0px 1px 2px rgba(0, 0, 0, 0.3));\n",
              "      fill: #FFFFFF;\n",
              "    }\n",
              "  </style>\n",
              "\n",
              "      <script>\n",
              "        const buttonEl =\n",
              "          document.querySelector('#df-c55860c1-5907-49e3-a5f3-a629732280c2 button.colab-df-convert');\n",
              "        buttonEl.style.display =\n",
              "          google.colab.kernel.accessAllowed ? 'block' : 'none';\n",
              "\n",
              "        async function convertToInteractive(key) {\n",
              "          const element = document.querySelector('#df-c55860c1-5907-49e3-a5f3-a629732280c2');\n",
              "          const dataTable =\n",
              "            await google.colab.kernel.invokeFunction('convertToInteractive',\n",
              "                                                     [key], {});\n",
              "          if (!dataTable) return;\n",
              "\n",
              "          const docLinkHtml = 'Like what you see? Visit the ' +\n",
              "            '<a target=\"_blank\" href=https://colab.research.google.com/notebooks/data_table.ipynb>data table notebook</a>'\n",
              "            + ' to learn more about interactive tables.';\n",
              "          element.innerHTML = '';\n",
              "          dataTable['output_type'] = 'display_data';\n",
              "          await google.colab.output.renderOutput(dataTable, element);\n",
              "          const docLink = document.createElement('div');\n",
              "          docLink.innerHTML = docLinkHtml;\n",
              "          element.appendChild(docLink);\n",
              "        }\n",
              "      </script>\n",
              "    </div>\n",
              "  </div>\n",
              "  "
            ],
            "text/plain": [
              "                  V1            V2            V3            V4            V5  \\\n",
              "V1      1.000000e+00  4.135835e-16 -1.227819e-15 -9.215150e-16  1.812612e-17   \n",
              "V2      4.135835e-16  1.000000e+00  3.243764e-16 -1.121065e-15  5.157519e-16   \n",
              "V3     -1.227819e-15  3.243764e-16  1.000000e+00  4.711293e-16 -6.539009e-17   \n",
              "V4     -9.215150e-16 -1.121065e-15  4.711293e-16  1.000000e+00 -1.719944e-15   \n",
              "V5      1.812612e-17  5.157519e-16 -6.539009e-17 -1.719944e-15  1.000000e+00   \n",
              "V6     -6.506567e-16  2.787346e-16  1.627627e-15 -7.491959e-16  2.408382e-16   \n",
              "V7     -1.005191e-15  2.055934e-16  4.895305e-16 -4.104503e-16  2.715541e-16   \n",
              "V8     -2.433822e-16 -5.377041e-17 -1.268779e-15  5.697192e-16  7.437229e-16   \n",
              "V9     -1.513678e-16  1.978488e-17  5.568367e-16  6.923247e-16  7.391702e-16   \n",
              "V10     7.388135e-17 -3.991394e-16  1.156587e-15  2.232685e-16 -5.202306e-16   \n",
              "V11     2.125498e-16  1.975426e-16  1.576830e-15  3.459380e-16  7.203963e-16   \n",
              "V12     2.053457e-16 -9.568710e-17  6.310231e-16 -5.625518e-16  7.412552e-16   \n",
              "V13    -2.425603e-17  6.295388e-16  2.807652e-16  1.303306e-16  5.886991e-16   \n",
              "V14    -5.020280e-16 -1.730566e-16  4.739859e-16  2.282280e-16  6.565143e-16   \n",
              "V15     3.547782e-16 -4.995814e-17  9.068793e-16  1.377649e-16 -8.720275e-16   \n",
              "V16     7.212815e-17  1.177316e-17  8.299445e-16 -9.614528e-16  2.246261e-15   \n",
              "V17    -3.879840e-16 -2.685296e-16  7.614712e-16 -2.699612e-16  1.281914e-16   \n",
              "V18     3.230206e-17  3.284605e-16  1.509897e-16 -5.103644e-16  5.308590e-16   \n",
              "V19     1.502024e-16 -7.118719e-18  3.463522e-16 -3.980557e-16 -1.450421e-16   \n",
              "V20     4.654551e-16  2.506675e-16 -9.316409e-16 -1.857247e-16 -3.554057e-16   \n",
              "V21    -2.457409e-16 -8.480447e-17  5.706192e-17 -1.949553e-16 -3.920976e-16   \n",
              "V22    -4.290944e-16  1.526333e-16 -1.133902e-15 -6.276051e-17  1.253751e-16   \n",
              "V23     6.168652e-16  1.634231e-16 -4.983035e-16  9.164206e-17 -8.428683e-18   \n",
              "V24    -4.425156e-17  1.247925e-17  2.686834e-19  1.584638e-16 -1.149255e-15   \n",
              "V25    -9.605737e-16 -4.478846e-16 -1.104734e-15  6.070716e-16  4.808532e-16   \n",
              "V26    -1.581290e-17  2.057310e-16 -1.238062e-16 -4.247268e-16  4.319541e-16   \n",
              "V27     1.198124e-16 -4.966953e-16  1.045747e-15  3.977061e-17  6.590482e-16   \n",
              "V28     2.083082e-15 -5.093836e-16  9.775546e-16 -2.761403e-18 -5.613951e-18   \n",
              "Amount -2.277087e-01 -5.314089e-01 -2.108805e-01  9.873167e-02 -3.863563e-01   \n",
              "Class  -1.013473e-01  9.128865e-02 -1.929608e-01  1.334475e-01 -9.497430e-02   \n",
              "\n",
              "                  V6            V7            V8            V9           V10  \\\n",
              "V1     -6.506567e-16 -1.005191e-15 -2.433822e-16 -1.513678e-16  7.388135e-17   \n",
              "V2      2.787346e-16  2.055934e-16 -5.377041e-17  1.978488e-17 -3.991394e-16   \n",
              "V3      1.627627e-15  4.895305e-16 -1.268779e-15  5.568367e-16  1.156587e-15   \n",
              "V4     -7.491959e-16 -4.104503e-16  5.697192e-16  6.923247e-16  2.232685e-16   \n",
              "V5      2.408382e-16  2.715541e-16  7.437229e-16  7.391702e-16 -5.202306e-16   \n",
              "V6      1.000000e+00  1.191668e-16 -1.104219e-16  4.131207e-16  5.932243e-17   \n",
              "V7      1.191668e-16  1.000000e+00  3.344412e-16  1.122501e-15 -7.492834e-17   \n",
              "V8     -1.104219e-16  3.344412e-16  1.000000e+00  4.356078e-16 -2.801370e-16   \n",
              "V9      4.131207e-16  1.122501e-15  4.356078e-16  1.000000e+00 -4.642274e-16   \n",
              "V10     5.932243e-17 -7.492834e-17 -2.801370e-16 -4.642274e-16  1.000000e+00   \n",
              "V11     1.980503e-15  1.425248e-16  2.487043e-16  1.354680e-16 -4.622103e-16   \n",
              "V12     2.375468e-16 -3.536655e-18  1.839891e-16 -1.079314e-15  1.771869e-15   \n",
              "V13    -1.211182e-16  1.266462e-17 -2.921856e-16  2.251072e-15 -5.418460e-16   \n",
              "V14     2.621312e-16  2.607772e-16 -8.599156e-16  3.784757e-15  2.635936e-16   \n",
              "V15    -1.531188e-15 -1.690540e-16  4.127777e-16 -1.051167e-15  5.786332e-16   \n",
              "V16     2.623672e-18  5.869302e-17 -5.254741e-16 -1.214086e-15  3.545450e-16   \n",
              "V17     2.015618e-16  2.177192e-16 -2.269549e-16  1.113695e-15  1.542955e-15   \n",
              "V18     1.223814e-16  7.604126e-17 -3.667974e-16  4.993240e-16  3.902423e-16   \n",
              "V19    -1.865597e-16 -1.881008e-16 -3.875186e-16 -1.376135e-16  3.437633e-17   \n",
              "V20    -1.858755e-16  9.379684e-16  2.033737e-16 -2.343720e-16 -1.331556e-15   \n",
              "V21     5.833316e-17 -2.027779e-16  3.892798e-16  1.936953e-16  1.177547e-15   \n",
              "V22    -4.705235e-19 -8.898922e-16  2.026927e-16 -7.071869e-16 -6.418202e-16   \n",
              "V23     1.046712e-16 -4.387401e-16  6.377260e-17 -5.214137e-16  3.214491e-16   \n",
              "V24    -1.071589e-15  7.434913e-18 -1.047097e-16 -1.430343e-16 -1.355885e-16   \n",
              "V25     4.562861e-16 -3.094082e-16 -4.653279e-16  6.757763e-16 -2.846052e-16   \n",
              "V26    -1.357067e-16 -9.657637e-16 -1.727276e-16 -7.888853e-16 -3.028119e-16   \n",
              "V27    -4.452461e-16 -1.782106e-15  1.299943e-16 -6.709655e-17 -2.197977e-16   \n",
              "V28     2.594754e-16 -2.776530e-16 -6.200930e-16  1.110541e-15  4.864782e-17   \n",
              "Amount  2.159812e-01  3.973113e-01 -1.030791e-01 -4.424560e-02 -1.015021e-01   \n",
              "Class  -4.364316e-02 -1.872566e-01  1.987512e-02 -9.773269e-02 -2.168829e-01   \n",
              "\n",
              "        ...           V21           V22           V23           V24  \\\n",
              "V1      ... -2.457409e-16 -4.290944e-16  6.168652e-16 -4.425156e-17   \n",
              "V2      ... -8.480447e-17  1.526333e-16  1.634231e-16  1.247925e-17   \n",
              "V3      ...  5.706192e-17 -1.133902e-15 -4.983035e-16  2.686834e-19   \n",
              "V4      ... -1.949553e-16 -6.276051e-17  9.164206e-17  1.584638e-16   \n",
              "V5      ... -3.920976e-16  1.253751e-16 -8.428683e-18 -1.149255e-15   \n",
              "V6      ...  5.833316e-17 -4.705235e-19  1.046712e-16 -1.071589e-15   \n",
              "V7      ... -2.027779e-16 -8.898922e-16 -4.387401e-16  7.434913e-18   \n",
              "V8      ...  3.892798e-16  2.026927e-16  6.377260e-17 -1.047097e-16   \n",
              "V9      ...  1.936953e-16 -7.071869e-16 -5.214137e-16 -1.430343e-16   \n",
              "V10     ...  1.177547e-15 -6.418202e-16  3.214491e-16 -1.355885e-16   \n",
              "V11     ... -5.658364e-16  7.772895e-16 -4.505332e-16  1.933267e-15   \n",
              "V12     ...  7.300527e-16  1.644699e-16  1.800885e-16  4.436512e-16   \n",
              "V13     ...  1.008461e-16  6.747721e-17 -7.132064e-16 -1.397470e-16   \n",
              "V14     ... -3.356561e-16  3.740383e-16  3.883204e-16  2.003482e-16   \n",
              "V15     ...  6.605263e-17 -4.208921e-16 -3.912243e-16 -4.478263e-16   \n",
              "V16     ... -4.715090e-16 -7.923387e-17  5.020770e-16 -3.005985e-16   \n",
              "V17     ... -8.230527e-16 -8.743398e-16  3.706214e-16 -2.403828e-16   \n",
              "V18     ... -9.408680e-16 -4.819365e-16 -1.912006e-16 -8.986916e-17   \n",
              "V19     ...  5.115885e-16 -1.163768e-15  7.032035e-16  2.587708e-17   \n",
              "V20     ... -7.614597e-16  1.009285e-15  2.712885e-16  1.277215e-16   \n",
              "V21     ...  1.000000e+00  3.649908e-15  8.119580e-16  1.761054e-16   \n",
              "V22     ...  3.649908e-15  1.000000e+00 -7.303916e-17  9.970809e-17   \n",
              "V23     ...  8.119580e-16 -7.303916e-17  1.000000e+00  2.130519e-17   \n",
              "V24     ...  1.761054e-16  9.970809e-17  2.130519e-17  1.000000e+00   \n",
              "V25     ... -1.686082e-16 -5.018575e-16 -8.232727e-17  1.015391e-15   \n",
              "V26     ... -5.557329e-16 -2.503187e-17  1.114524e-15  1.343722e-16   \n",
              "V27     ... -1.211281e-15  8.461337e-17  2.839721e-16 -2.274142e-16   \n",
              "V28     ...  5.278775e-16 -6.627203e-16  1.481903e-15 -2.819805e-16   \n",
              "Amount  ...  1.059989e-01 -6.480065e-02 -1.126326e-01  5.146217e-03   \n",
              "Class   ...  4.041338e-02  8.053175e-04 -2.685156e-03 -7.220907e-03   \n",
              "\n",
              "                 V25           V26           V27           V28    Amount  \\\n",
              "V1     -9.605737e-16 -1.581290e-17  1.198124e-16  2.083082e-15 -0.227709   \n",
              "V2     -4.478846e-16  2.057310e-16 -4.966953e-16 -5.093836e-16 -0.531409   \n",
              "V3     -1.104734e-15 -1.238062e-16  1.045747e-15  9.775546e-16 -0.210880   \n",
              "V4      6.070716e-16 -4.247268e-16  3.977061e-17 -2.761403e-18  0.098732   \n",
              "V5      4.808532e-16  4.319541e-16  6.590482e-16 -5.613951e-18 -0.386356   \n",
              "V6      4.562861e-16 -1.357067e-16 -4.452461e-16  2.594754e-16  0.215981   \n",
              "V7     -3.094082e-16 -9.657637e-16 -1.782106e-15 -2.776530e-16  0.397311   \n",
              "V8     -4.653279e-16 -1.727276e-16  1.299943e-16 -6.200930e-16 -0.103079   \n",
              "V9      6.757763e-16 -7.888853e-16 -6.709655e-17  1.110541e-15 -0.044246   \n",
              "V10    -2.846052e-16 -3.028119e-16 -2.197977e-16  4.864782e-17 -0.101502   \n",
              "V11    -5.600475e-16 -1.003221e-16 -2.640281e-16 -3.792314e-16  0.000104   \n",
              "V12    -5.712973e-16 -2.359969e-16 -4.672391e-16  6.415167e-16 -0.009542   \n",
              "V13    -5.497612e-16 -1.769255e-16 -4.720898e-16  1.144372e-15  0.005293   \n",
              "V14    -8.547932e-16 -1.660327e-16  1.044274e-16  2.289427e-15  0.033751   \n",
              "V15     3.206423e-16  2.817791e-16 -1.143519e-15 -1.194130e-15 -0.002986   \n",
              "V16    -1.345418e-15 -7.290010e-16  6.789513e-16  7.588849e-16 -0.003910   \n",
              "V17     2.666806e-16  6.932833e-16  6.148525e-16 -5.534540e-17  0.007309   \n",
              "V18    -6.629212e-17  2.990167e-16  2.242791e-16  7.976796e-16  0.035650   \n",
              "V19     9.577163e-16  5.898033e-16 -2.959370e-16 -1.405379e-15 -0.056151   \n",
              "V20     1.410054e-16 -2.803504e-16 -1.138829e-15 -2.436795e-16  0.339403   \n",
              "V21    -1.686082e-16 -5.557329e-16 -1.211281e-15  5.278775e-16  0.105999   \n",
              "V22    -5.018575e-16 -2.503187e-17  8.461337e-17 -6.627203e-16 -0.064801   \n",
              "V23    -8.232727e-17  1.114524e-15  2.839721e-16  1.481903e-15 -0.112633   \n",
              "V24     1.015391e-15  1.343722e-16 -2.274142e-16 -2.819805e-16  0.005146   \n",
              "V25     1.000000e+00  2.646517e-15 -6.406679e-16 -7.008939e-16 -0.047837   \n",
              "V26     2.646517e-15  1.000000e+00 -3.667715e-16 -2.782204e-16 -0.003208   \n",
              "V27    -6.406679e-16 -3.667715e-16  1.000000e+00 -3.061287e-16  0.028825   \n",
              "V28    -7.008939e-16 -2.782204e-16 -3.061287e-16  1.000000e+00  0.010258   \n",
              "Amount -4.783686e-02 -3.208037e-03  2.882546e-02  1.025822e-02  1.000000   \n",
              "Class   3.307706e-03  4.455398e-03  1.757973e-02  9.536041e-03  0.005632   \n",
              "\n",
              "           Class  \n",
              "V1     -0.101347  \n",
              "V2      0.091289  \n",
              "V3     -0.192961  \n",
              "V4      0.133447  \n",
              "V5     -0.094974  \n",
              "V6     -0.043643  \n",
              "V7     -0.187257  \n",
              "V8      0.019875  \n",
              "V9     -0.097733  \n",
              "V10    -0.216883  \n",
              "V11     0.154876  \n",
              "V12    -0.260593  \n",
              "V13    -0.004570  \n",
              "V14    -0.302544  \n",
              "V15    -0.004223  \n",
              "V16    -0.196539  \n",
              "V17    -0.326481  \n",
              "V18    -0.111485  \n",
              "V19     0.034783  \n",
              "V20     0.020090  \n",
              "V21     0.040413  \n",
              "V22     0.000805  \n",
              "V23    -0.002685  \n",
              "V24    -0.007221  \n",
              "V25     0.003308  \n",
              "V26     0.004455  \n",
              "V27     0.017580  \n",
              "V28     0.009536  \n",
              "Amount  0.005632  \n",
              "Class   1.000000  \n",
              "\n",
              "[30 rows x 30 columns]"
            ]
          },
          "execution_count": 9,
          "metadata": {},
          "output_type": "execute_result"
        }
      ],
      "source": [
        "df.corr()"
      ],
      "id": "b37c1a5f"
    },
    {
      "cell_type": "code",
      "execution_count": null,
      "metadata": {
        "colab": {
          "base_uri": "https://localhost:8080/",
          "height": 588
        },
        "id": "157d3b4a",
        "outputId": "ed78084a-ce9a-4a50-b382-5c8f58b7ba06"
      },
      "outputs": [
        {
          "data": {
            "text/plain": [
              "<matplotlib.axes._subplots.AxesSubplot at 0x7fb5931877f0>"
            ]
          },
          "execution_count": 10,
          "metadata": {},
          "output_type": "execute_result"
        },
        {
          "data": {
            "image/png": "[encoded data removed]",
            "text/plain": [
              "<Figure size 1224x648 with 2 Axes>"
            ]
          },
          "metadata": {},
          "output_type": "display_data"
        }
      ],
      "source": [
        "plt.figure(figsize= (17,9))\n",
        "sns.heatmap(df.corr(),annot=True,fmt='0.2f')"
      ],
      "id": "157d3b4a"
    },
    {
      "cell_type": "markdown",
      "metadata": {
        "id": "4c518ea5"
      },
      "source": [
        "##  Imbalanced classess detection"
      ],
      "id": "4c518ea5"
    },
    {
      "cell_type": "code",
      "execution_count": null,
      "metadata": {
        "colab": {
          "base_uri": "https://localhost:8080/"
        },
        "id": "93a97018",
        "outputId": "c02a36b3-d886-45af-f3ac-1d9aebe23e46"
      },
      "outputs": [
        {
          "data": {
            "text/plain": [
              "0    284315\n",
              "1       492\n",
              "Name: Class, dtype: int64"
            ]
          },
          "execution_count": 11,
          "metadata": {},
          "output_type": "execute_result"
        }
      ],
      "source": [
        "df['Class'].value_counts()"
      ],
      "id": "93a97018"
    },
    {
      "cell_type": "code",
      "execution_count": null,
      "metadata": {
        "colab": {
          "base_uri": "https://localhost:8080/"
        },
        "id": "b3f7fa79",
        "outputId": "154fbc1d-f4d9-427d-e76a-20de51a38219"
      },
      "outputs": [
        {
          "data": {
            "text/plain": [
              "0    99.827251\n",
              "1     0.172749\n",
              "Name: Class, dtype: float64"
            ]
          },
          "execution_count": 12,
          "metadata": {},
          "output_type": "execute_result"
        }
      ],
      "source": [
        "df['Class'].value_counts()  / len(df)* 100"
      ],
      "id": "b3f7fa79"
    },
    {
      "cell_type": "code",
      "execution_count": null,
      "metadata": {
        "colab": {
          "base_uri": "https://localhost:8080/",
          "height": 297
        },
        "id": "7d3c687f",
        "outputId": "0f3583de-4c06-4035-ebf9-01576318c505"
      },
      "outputs": [
        {
          "data": {
            "text/plain": [
              "<matplotlib.axes._subplots.AxesSubplot at 0x7fb597c51940>"
            ]
          },
          "execution_count": 13,
          "metadata": {},
          "output_type": "execute_result"
        },
        {
          "data": {
            "image/png": "[encoded data removed]",
            "text/plain": [
              "<Figure size 432x288 with 1 Axes>"
            ]
          },
          "metadata": {},
          "output_type": "display_data"
        }
      ],
      "source": [
        "sns.countplot(x='Class', data=df)"
      ],
      "id": "7d3c687f"
    },
    {
      "cell_type": "markdown",
      "metadata": {
        "id": "f873f546"
      },
      "source": [
        "## handle an imbalanced class problem "
      ],
      "id": "f873f546"
    },
    {
      "cell_type": "code",
      "execution_count": null,
      "metadata": {
        "id": "da419967"
      },
      "outputs": [],
      "source": [
        "from imblearn.over_sampling import SMOTE\n",
        "from sklearn.model_selection import train_test_split\n",
        "x = df.drop('Class', axis=1)\n",
        "y = df['Class']\n",
        "\n",
        "# setting up testing and training sets\n",
        "x_train, x_test, y_train, y_test = train_test_split(x, y, test_size=0.25, random_state=42)\n",
        "sm = SMOTE(random_state=27)\n",
        "x_train, y_train = sm.fit_resample(x_train, y_train)\n",
        "x_test, y_test = sm.fit_resample(x_test, y_test)\n",
        "\n",
        "\n"
      ],
      "id": "da419967"
    },
    {
      "cell_type": "code",
      "execution_count": null,
      "metadata": {
        "colab": {
          "base_uri": "https://localhost:8080/"
        },
        "id": "2a2b9757",
        "outputId": "339a04df-b383-400b-ad08-fa3e01c00c1a"
      },
      "outputs": [
        {
          "data": {
            "text/plain": [
              "0         0\n",
              "1         0\n",
              "2         0\n",
              "3         0\n",
              "4         0\n",
              "         ..\n",
              "426447    1\n",
              "426448    1\n",
              "426449    1\n",
              "426450    1\n",
              "426451    1\n",
              "Name: Class, Length: 426452, dtype: int64"
            ]
          },
          "execution_count": 15,
          "metadata": {},
          "output_type": "execute_result"
        }
      ],
      "source": [
        "y_train"
      ],
      "id": "2a2b9757"
    },
    {
      "cell_type": "code",
      "execution_count": null,
      "metadata": {
        "colab": {
          "base_uri": "https://localhost:8080/",
          "height": 488
        },
        "id": "zjZRSaM0Jy3L",
        "outputId": "c6b0efdb-1acc-4fc0-acb9-e61b0852b5b9"
      },
      "outputs": [
        {
          "data": {
            "text/html": [
              "\n",
              "  <div id=\"df-806d404d-e6f0-41b1-8695-d61e6c176875\">\n",
              "    <div class=\"colab-df-container\">\n",
              "      <div>\n",
              "<style scoped>\n",
              "    .dataframe tbody tr th:only-of-type {\n",
              "        vertical-align: middle;\n",
              "    }\n",
              "\n",
              "    .dataframe tbody tr th {\n",
              "        vertical-align: top;\n",
              "    }\n",
              "\n",
              "    .dataframe thead th {\n",
              "        text-align: right;\n",
              "    }\n",
              "</style>\n",
              "<table border=\"1\" class=\"dataframe\">\n",
              "  <thead>\n",
              "    <tr style=\"text-align: right;\">\n",
              "      <th></th>\n",
              "      <th>V1</th>\n",
              "      <th>V2</th>\n",
              "      <th>V3</th>\n",
              "      <th>V4</th>\n",
              "      <th>V5</th>\n",
              "      <th>V6</th>\n",
              "      <th>V7</th>\n",
              "      <th>V8</th>\n",
              "      <th>V9</th>\n",
              "      <th>V10</th>\n",
              "      <th>...</th>\n",
              "      <th>V20</th>\n",
              "      <th>V21</th>\n",
              "      <th>V22</th>\n",
              "      <th>V23</th>\n",
              "      <th>V24</th>\n",
              "      <th>V25</th>\n",
              "      <th>V26</th>\n",
              "      <th>V27</th>\n",
              "      <th>V28</th>\n",
              "      <th>Amount</th>\n",
              "    </tr>\n",
              "  </thead>\n",
              "  <tbody>\n",
              "    <tr>\n",
              "      <th>0</th>\n",
              "      <td>-1.648591</td>\n",
              "      <td>1.228130</td>\n",
              "      <td>1.370169</td>\n",
              "      <td>-1.735542</td>\n",
              "      <td>-0.029455</td>\n",
              "      <td>-0.484129</td>\n",
              "      <td>0.918645</td>\n",
              "      <td>-0.438750</td>\n",
              "      <td>0.982144</td>\n",
              "      <td>1.241635</td>\n",
              "      <td>...</td>\n",
              "      <td>0.384201</td>\n",
              "      <td>-0.218076</td>\n",
              "      <td>-0.203458</td>\n",
              "      <td>-0.213015</td>\n",
              "      <td>0.011372</td>\n",
              "      <td>-0.304481</td>\n",
              "      <td>0.632063</td>\n",
              "      <td>-0.262968</td>\n",
              "      <td>-0.099863</td>\n",
              "      <td>38.420000</td>\n",
              "    </tr>\n",
              "    <tr>\n",
              "      <th>1</th>\n",
              "      <td>-0.234775</td>\n",
              "      <td>-0.493269</td>\n",
              "      <td>1.236728</td>\n",
              "      <td>-2.338793</td>\n",
              "      <td>-1.176733</td>\n",
              "      <td>0.885733</td>\n",
              "      <td>-1.960981</td>\n",
              "      <td>-2.363412</td>\n",
              "      <td>-2.694774</td>\n",
              "      <td>0.360215</td>\n",
              "      <td>...</td>\n",
              "      <td>0.364679</td>\n",
              "      <td>-1.495358</td>\n",
              "      <td>-0.083066</td>\n",
              "      <td>0.074612</td>\n",
              "      <td>-0.347329</td>\n",
              "      <td>0.541900</td>\n",
              "      <td>-0.433294</td>\n",
              "      <td>0.089293</td>\n",
              "      <td>0.212029</td>\n",
              "      <td>61.200000</td>\n",
              "    </tr>\n",
              "    <tr>\n",
              "      <th>2</th>\n",
              "      <td>1.134626</td>\n",
              "      <td>-0.774460</td>\n",
              "      <td>-0.163390</td>\n",
              "      <td>-0.533358</td>\n",
              "      <td>-0.604555</td>\n",
              "      <td>-0.244482</td>\n",
              "      <td>-0.212682</td>\n",
              "      <td>0.040782</td>\n",
              "      <td>-1.136627</td>\n",
              "      <td>0.792009</td>\n",
              "      <td>...</td>\n",
              "      <td>-0.396476</td>\n",
              "      <td>-0.684454</td>\n",
              "      <td>-1.855269</td>\n",
              "      <td>0.171997</td>\n",
              "      <td>-0.387783</td>\n",
              "      <td>-0.062985</td>\n",
              "      <td>0.245118</td>\n",
              "      <td>-0.061178</td>\n",
              "      <td>0.012180</td>\n",
              "      <td>110.950000</td>\n",
              "    </tr>\n",
              "    <tr>\n",
              "      <th>3</th>\n",
              "      <td>0.069514</td>\n",
              "      <td>1.017753</td>\n",
              "      <td>1.033117</td>\n",
              "      <td>1.384376</td>\n",
              "      <td>0.223233</td>\n",
              "      <td>-0.310845</td>\n",
              "      <td>0.597287</td>\n",
              "      <td>-0.127658</td>\n",
              "      <td>-0.701533</td>\n",
              "      <td>0.070739</td>\n",
              "      <td>...</td>\n",
              "      <td>0.148760</td>\n",
              "      <td>0.097023</td>\n",
              "      <td>0.369957</td>\n",
              "      <td>-0.219266</td>\n",
              "      <td>-0.124941</td>\n",
              "      <td>-0.049749</td>\n",
              "      <td>-0.112946</td>\n",
              "      <td>0.114440</td>\n",
              "      <td>0.066101</td>\n",
              "      <td>10.000000</td>\n",
              "    </tr>\n",
              "    <tr>\n",
              "      <th>4</th>\n",
              "      <td>-0.199441</td>\n",
              "      <td>0.610092</td>\n",
              "      <td>-0.114437</td>\n",
              "      <td>0.256565</td>\n",
              "      <td>2.290752</td>\n",
              "      <td>4.008475</td>\n",
              "      <td>-0.123530</td>\n",
              "      <td>1.038374</td>\n",
              "      <td>-0.075846</td>\n",
              "      <td>0.030453</td>\n",
              "      <td>...</td>\n",
              "      <td>0.292972</td>\n",
              "      <td>-0.019733</td>\n",
              "      <td>0.165463</td>\n",
              "      <td>-0.080978</td>\n",
              "      <td>1.020656</td>\n",
              "      <td>-0.300730</td>\n",
              "      <td>-0.269595</td>\n",
              "      <td>0.481769</td>\n",
              "      <td>0.254114</td>\n",
              "      <td>22.000000</td>\n",
              "    </tr>\n",
              "    <tr>\n",
              "      <th>...</th>\n",
              "      <td>...</td>\n",
              "      <td>...</td>\n",
              "      <td>...</td>\n",
              "      <td>...</td>\n",
              "      <td>...</td>\n",
              "      <td>...</td>\n",
              "      <td>...</td>\n",
              "      <td>...</td>\n",
              "      <td>...</td>\n",
              "      <td>...</td>\n",
              "      <td>...</td>\n",
              "      <td>...</td>\n",
              "      <td>...</td>\n",
              "      <td>...</td>\n",
              "      <td>...</td>\n",
              "      <td>...</td>\n",
              "      <td>...</td>\n",
              "      <td>...</td>\n",
              "      <td>...</td>\n",
              "      <td>...</td>\n",
              "      <td>...</td>\n",
              "    </tr>\n",
              "    <tr>\n",
              "      <th>426447</th>\n",
              "      <td>-2.676104</td>\n",
              "      <td>1.328832</td>\n",
              "      <td>-2.468270</td>\n",
              "      <td>0.914291</td>\n",
              "      <td>-0.300661</td>\n",
              "      <td>0.776848</td>\n",
              "      <td>-3.658013</td>\n",
              "      <td>-2.300756</td>\n",
              "      <td>0.219761</td>\n",
              "      <td>-4.489449</td>\n",
              "      <td>...</td>\n",
              "      <td>0.357315</td>\n",
              "      <td>-0.151318</td>\n",
              "      <td>1.083142</td>\n",
              "      <td>-0.277643</td>\n",
              "      <td>-0.338592</td>\n",
              "      <td>0.367201</td>\n",
              "      <td>0.150549</td>\n",
              "      <td>0.485107</td>\n",
              "      <td>-0.178157</td>\n",
              "      <td>39.056025</td>\n",
              "    </tr>\n",
              "    <tr>\n",
              "      <th>426448</th>\n",
              "      <td>1.184012</td>\n",
              "      <td>3.065254</td>\n",
              "      <td>-6.159700</td>\n",
              "      <td>5.542899</td>\n",
              "      <td>1.626901</td>\n",
              "      <td>-1.845378</td>\n",
              "      <td>-0.998013</td>\n",
              "      <td>0.333660</td>\n",
              "      <td>-2.976534</td>\n",
              "      <td>-3.854967</td>\n",
              "      <td>...</td>\n",
              "      <td>0.259650</td>\n",
              "      <td>0.110455</td>\n",
              "      <td>-0.922024</td>\n",
              "      <td>-0.065501</td>\n",
              "      <td>-0.003988</td>\n",
              "      <td>0.349158</td>\n",
              "      <td>0.064188</td>\n",
              "      <td>0.477352</td>\n",
              "      <td>0.323977</td>\n",
              "      <td>0.000000</td>\n",
              "    </tr>\n",
              "    <tr>\n",
              "      <th>426449</th>\n",
              "      <td>-0.457988</td>\n",
              "      <td>0.754152</td>\n",
              "      <td>-2.138857</td>\n",
              "      <td>1.769104</td>\n",
              "      <td>-0.921433</td>\n",
              "      <td>-1.208804</td>\n",
              "      <td>-2.463979</td>\n",
              "      <td>0.323739</td>\n",
              "      <td>-0.500033</td>\n",
              "      <td>-2.911125</td>\n",
              "      <td>...</td>\n",
              "      <td>0.291843</td>\n",
              "      <td>0.560481</td>\n",
              "      <td>0.656145</td>\n",
              "      <td>0.129431</td>\n",
              "      <td>-0.346773</td>\n",
              "      <td>0.235847</td>\n",
              "      <td>-0.378830</td>\n",
              "      <td>0.543968</td>\n",
              "      <td>-0.015471</td>\n",
              "      <td>9.733663</td>\n",
              "    </tr>\n",
              "    <tr>\n",
              "      <th>426450</th>\n",
              "      <td>-16.764295</td>\n",
              "      <td>10.609791</td>\n",
              "      <td>-19.952388</td>\n",
              "      <td>6.024472</td>\n",
              "      <td>-13.133411</td>\n",
              "      <td>-4.138050</td>\n",
              "      <td>-14.190007</td>\n",
              "      <td>11.263885</td>\n",
              "      <td>-4.093260</td>\n",
              "      <td>-9.205821</td>\n",
              "      <td>...</td>\n",
              "      <td>1.537380</td>\n",
              "      <td>1.726820</td>\n",
              "      <td>-1.165436</td>\n",
              "      <td>-0.691507</td>\n",
              "      <td>0.109244</td>\n",
              "      <td>1.079686</td>\n",
              "      <td>-0.233590</td>\n",
              "      <td>1.701778</td>\n",
              "      <td>0.509542</td>\n",
              "      <td>99.990000</td>\n",
              "    </tr>\n",
              "    <tr>\n",
              "      <th>426451</th>\n",
              "      <td>-1.082529</td>\n",
              "      <td>2.570245</td>\n",
              "      <td>-5.633550</td>\n",
              "      <td>3.532422</td>\n",
              "      <td>0.662873</td>\n",
              "      <td>-2.582735</td>\n",
              "      <td>-1.852057</td>\n",
              "      <td>0.314201</td>\n",
              "      <td>-1.471984</td>\n",
              "      <td>-5.659221</td>\n",
              "      <td>...</td>\n",
              "      <td>0.155802</td>\n",
              "      <td>0.174844</td>\n",
              "      <td>-0.474827</td>\n",
              "      <td>0.218124</td>\n",
              "      <td>-0.786931</td>\n",
              "      <td>0.283705</td>\n",
              "      <td>-0.428196</td>\n",
              "      <td>0.242873</td>\n",
              "      <td>-0.082862</td>\n",
              "      <td>1.000000</td>\n",
              "    </tr>\n",
              "  </tbody>\n",
              "</table>\n",
              "<p>426452 rows × 29 columns</p>\n",
              "</div>\n",
              "      <button class=\"colab-df-convert\" onclick=\"convertToInteractive('df-806d404d-e6f0-41b1-8695-d61e6c176875')\"\n",
              "              title=\"Convert this dataframe to an interactive table.\"\n",
              "              style=\"display:none;\">\n",
              "        \n",
              "  <svg xmlns=\"http://www.w3.org/2000/svg\" height=\"24px\"viewBox=\"0 0 24 24\"\n",
              "       width=\"24px\">\n",
              "    <path d=\"M0 0h24v24H0V0z\" fill=\"none\"/>\n",
              "    <path d=\"M18.56 5.44l.94 2.06.94-2.06 2.06-.94-2.06-.94-.94-2.06-.94 2.06-2.06.94zm-11 1L8.5 8.5l.94-2.06 2.06-.94-2.06-.94L8.5 2.5l-.94 2.06-2.06.94zm10 10l.94 2.06.94-2.06 2.06-.94-2.06-.94-.94-2.06-.94 2.06-2.06.94z\"/><path d=\"M17.41 7.96l-1.37-1.37c-.4-.4-.92-.59-1.43-.59-.52 0-1.04.2-1.43.59L10.3 9.45l-7.72 7.72c-.78.78-.78 2.05 0 2.83L4 21.41c.39.39.9.59 1.41.59.51 0 1.02-.2 1.41-.59l7.78-7.78 2.81-2.81c.8-.78.8-2.07 0-2.86zM5.41 20L4 18.59l7.72-7.72 1.47 1.35L5.41 20z\"/>\n",
              "  </svg>\n",
              "      </button>\n",
              "      \n",
              "  <style>\n",
              "    .colab-df-container {\n",
              "      display:flex;\n",
              "      flex-wrap:wrap;\n",
              "      gap: 12px;\n",
              "    }\n",
              "\n",
              "    .colab-df-convert {\n",
              "      background-color: #E8F0FE;\n",
              "      border: none;\n",
              "      border-radius: 50%;\n",
              "      cursor: pointer;\n",
              "      display: none;\n",
              "      fill: #1967D2;\n",
              "      height: 32px;\n",
              "      padding: 0 0 0 0;\n",
              "      width: 32px;\n",
              "    }\n",
              "\n",
              "    .colab-df-convert:hover {\n",
              "      background-color: #E2EBFA;\n",
              "      box-shadow: 0px 1px 2px rgba(60, 64, 67, 0.3), 0px 1px 3px 1px rgba(60, 64, 67, 0.15);\n",
              "      fill: #174EA6;\n",
              "    }\n",
              "\n",
              "    [theme=dark] .colab-df-convert {\n",
              "      background-color: #3B4455;\n",
              "      fill: #D2E3FC;\n",
              "    }\n",
              "\n",
              "    [theme=dark] .colab-df-convert:hover {\n",
              "      background-color: #434B5C;\n",
              "      box-shadow: 0px 1px 3px 1px rgba(0, 0, 0, 0.15);\n",
              "      filter: drop-shadow(0px 1px 2px rgba(0, 0, 0, 0.3));\n",
              "      fill: #FFFFFF;\n",
              "    }\n",
              "  </style>\n",
              "\n",
              "      <script>\n",
              "        const buttonEl =\n",
              "          document.querySelector('#df-806d404d-e6f0-41b1-8695-d61e6c176875 button.colab-df-convert');\n",
              "        buttonEl.style.display =\n",
              "          google.colab.kernel.accessAllowed ? 'block' : 'none';\n",
              "\n",
              "        async function convertToInteractive(key) {\n",
              "          const element = document.querySelector('#df-806d404d-e6f0-41b1-8695-d61e6c176875');\n",
              "          const dataTable =\n",
              "            await google.colab.kernel.invokeFunction('convertToInteractive',\n",
              "                                                     [key], {});\n",
              "          if (!dataTable) return;\n",
              "\n",
              "          const docLinkHtml = 'Like what you see? Visit the ' +\n",
              "            '<a target=\"_blank\" href=https://colab.research.google.com/notebooks/data_table.ipynb>data table notebook</a>'\n",
              "            + ' to learn more about interactive tables.';\n",
              "          element.innerHTML = '';\n",
              "          dataTable['output_type'] = 'display_data';\n",
              "          await google.colab.output.renderOutput(dataTable, element);\n",
              "          const docLink = document.createElement('div');\n",
              "          docLink.innerHTML = docLinkHtml;\n",
              "          element.appendChild(docLink);\n",
              "        }\n",
              "      </script>\n",
              "    </div>\n",
              "  </div>\n",
              "  "
            ],
            "text/plain": [
              "               V1         V2         V3        V4         V5        V6  \\\n",
              "0       -1.648591   1.228130   1.370169 -1.735542  -0.029455 -0.484129   \n",
              "1       -0.234775  -0.493269   1.236728 -2.338793  -1.176733  0.885733   \n",
              "2        1.134626  -0.774460  -0.163390 -0.533358  -0.604555 -0.244482   \n",
              "3        0.069514   1.017753   1.033117  1.384376   0.223233 -0.310845   \n",
              "4       -0.199441   0.610092  -0.114437  0.256565   2.290752  4.008475   \n",
              "...           ...        ...        ...       ...        ...       ...   \n",
              "426447  -2.676104   1.328832  -2.468270  0.914291  -0.300661  0.776848   \n",
              "426448   1.184012   3.065254  -6.159700  5.542899   1.626901 -1.845378   \n",
              "426449  -0.457988   0.754152  -2.138857  1.769104  -0.921433 -1.208804   \n",
              "426450 -16.764295  10.609791 -19.952388  6.024472 -13.133411 -4.138050   \n",
              "426451  -1.082529   2.570245  -5.633550  3.532422   0.662873 -2.582735   \n",
              "\n",
              "               V7         V8        V9       V10  ...       V20       V21  \\\n",
              "0        0.918645  -0.438750  0.982144  1.241635  ...  0.384201 -0.218076   \n",
              "1       -1.960981  -2.363412 -2.694774  0.360215  ...  0.364679 -1.495358   \n",
              "2       -0.212682   0.040782 -1.136627  0.792009  ... -0.396476 -0.684454   \n",
              "3        0.597287  -0.127658 -0.701533  0.070739  ...  0.148760  0.097023   \n",
              "4       -0.123530   1.038374 -0.075846  0.030453  ...  0.292972 -0.019733   \n",
              "...           ...        ...       ...       ...  ...       ...       ...   \n",
              "426447  -3.658013  -2.300756  0.219761 -4.489449  ...  0.357315 -0.151318   \n",
              "426448  -0.998013   0.333660 -2.976534 -3.854967  ...  0.259650  0.110455   \n",
              "426449  -2.463979   0.323739 -0.500033 -2.911125  ...  0.291843  0.560481   \n",
              "426450 -14.190007  11.263885 -4.093260 -9.205821  ...  1.537380  1.726820   \n",
              "426451  -1.852057   0.314201 -1.471984 -5.659221  ...  0.155802  0.174844   \n",
              "\n",
              "             V22       V23       V24       V25       V26       V27       V28  \\\n",
              "0      -0.203458 -0.213015  0.011372 -0.304481  0.632063 -0.262968 -0.099863   \n",
              "1      -0.083066  0.074612 -0.347329  0.541900 -0.433294  0.089293  0.212029   \n",
              "2      -1.855269  0.171997 -0.387783 -0.062985  0.245118 -0.061178  0.012180   \n",
              "3       0.369957 -0.219266 -0.124941 -0.049749 -0.112946  0.114440  0.066101   \n",
              "4       0.165463 -0.080978  1.020656 -0.300730 -0.269595  0.481769  0.254114   \n",
              "...          ...       ...       ...       ...       ...       ...       ...   \n",
              "426447  1.083142 -0.277643 -0.338592  0.367201  0.150549  0.485107 -0.178157   \n",
              "426448 -0.922024 -0.065501 -0.003988  0.349158  0.064188  0.477352  0.323977   \n",
              "426449  0.656145  0.129431 -0.346773  0.235847 -0.378830  0.543968 -0.015471   \n",
              "426450 -1.165436 -0.691507  0.109244  1.079686 -0.233590  1.701778  0.509542   \n",
              "426451 -0.474827  0.218124 -0.786931  0.283705 -0.428196  0.242873 -0.082862   \n",
              "\n",
              "            Amount  \n",
              "0        38.420000  \n",
              "1        61.200000  \n",
              "2       110.950000  \n",
              "3        10.000000  \n",
              "4        22.000000  \n",
              "...            ...  \n",
              "426447   39.056025  \n",
              "426448    0.000000  \n",
              "426449    9.733663  \n",
              "426450   99.990000  \n",
              "426451    1.000000  \n",
              "\n",
              "[426452 rows x 29 columns]"
            ]
          },
          "execution_count": 16,
          "metadata": {},
          "output_type": "execute_result"
        }
      ],
      "source": [
        "x_train"
      ],
      "id": "zjZRSaM0Jy3L"
    },
    {
      "cell_type": "code",
      "execution_count": null,
      "metadata": {
        "colab": {
          "base_uri": "https://localhost:8080/",
          "height": 488
        },
        "id": "HL37yi3GKBxy",
        "outputId": "1f604063-8025-457c-f033-12ece16acafe"
      },
      "outputs": [
        {
          "data": {
            "text/html": [
              "\n",
              "  <div id=\"df-dbad3902-5484-4ac0-bfc9-bbb2448cf4e8\">\n",
              "    <div class=\"colab-df-container\">\n",
              "      <div>\n",
              "<style scoped>\n",
              "    .dataframe tbody tr th:only-of-type {\n",
              "        vertical-align: middle;\n",
              "    }\n",
              "\n",
              "    .dataframe tbody tr th {\n",
              "        vertical-align: top;\n",
              "    }\n",
              "\n",
              "    .dataframe thead th {\n",
              "        text-align: right;\n",
              "    }\n",
              "</style>\n",
              "<table border=\"1\" class=\"dataframe\">\n",
              "  <thead>\n",
              "    <tr style=\"text-align: right;\">\n",
              "      <th></th>\n",
              "      <th>V1</th>\n",
              "      <th>V2</th>\n",
              "      <th>V3</th>\n",
              "      <th>V4</th>\n",
              "      <th>V5</th>\n",
              "      <th>V6</th>\n",
              "      <th>V7</th>\n",
              "      <th>V8</th>\n",
              "      <th>V9</th>\n",
              "      <th>V10</th>\n",
              "      <th>...</th>\n",
              "      <th>V20</th>\n",
              "      <th>V21</th>\n",
              "      <th>V22</th>\n",
              "      <th>V23</th>\n",
              "      <th>V24</th>\n",
              "      <th>V25</th>\n",
              "      <th>V26</th>\n",
              "      <th>V27</th>\n",
              "      <th>V28</th>\n",
              "      <th>Amount</th>\n",
              "    </tr>\n",
              "  </thead>\n",
              "  <tbody>\n",
              "    <tr>\n",
              "      <th>0</th>\n",
              "      <td>-16.526507</td>\n",
              "      <td>8.584972</td>\n",
              "      <td>-18.649853</td>\n",
              "      <td>9.505594</td>\n",
              "      <td>-13.793819</td>\n",
              "      <td>-2.832404</td>\n",
              "      <td>-16.701694</td>\n",
              "      <td>7.517344</td>\n",
              "      <td>-8.507059</td>\n",
              "      <td>-14.110184</td>\n",
              "      <td>...</td>\n",
              "      <td>-1.514923</td>\n",
              "      <td>1.190739</td>\n",
              "      <td>-1.127670</td>\n",
              "      <td>-2.358579</td>\n",
              "      <td>0.673461</td>\n",
              "      <td>-1.413700</td>\n",
              "      <td>-0.462762</td>\n",
              "      <td>-2.018575</td>\n",
              "      <td>-1.042804</td>\n",
              "      <td>364.190000</td>\n",
              "    </tr>\n",
              "    <tr>\n",
              "      <th>1</th>\n",
              "      <td>0.339812</td>\n",
              "      <td>-2.743745</td>\n",
              "      <td>-0.134070</td>\n",
              "      <td>-1.385729</td>\n",
              "      <td>-1.451413</td>\n",
              "      <td>1.015887</td>\n",
              "      <td>-0.524379</td>\n",
              "      <td>0.224060</td>\n",
              "      <td>0.899746</td>\n",
              "      <td>-0.565012</td>\n",
              "      <td>...</td>\n",
              "      <td>0.506044</td>\n",
              "      <td>-0.213436</td>\n",
              "      <td>-0.942525</td>\n",
              "      <td>-0.526819</td>\n",
              "      <td>-1.156992</td>\n",
              "      <td>0.311211</td>\n",
              "      <td>-0.746647</td>\n",
              "      <td>0.040996</td>\n",
              "      <td>0.102038</td>\n",
              "      <td>520.120000</td>\n",
              "    </tr>\n",
              "    <tr>\n",
              "      <th>2</th>\n",
              "      <td>1.399590</td>\n",
              "      <td>-0.590701</td>\n",
              "      <td>0.168619</td>\n",
              "      <td>-1.029950</td>\n",
              "      <td>-0.539806</td>\n",
              "      <td>0.040444</td>\n",
              "      <td>-0.712567</td>\n",
              "      <td>0.002299</td>\n",
              "      <td>-0.971747</td>\n",
              "      <td>0.756801</td>\n",
              "      <td>...</td>\n",
              "      <td>0.212877</td>\n",
              "      <td>0.102398</td>\n",
              "      <td>0.168269</td>\n",
              "      <td>-0.166639</td>\n",
              "      <td>-0.810250</td>\n",
              "      <td>0.505083</td>\n",
              "      <td>-0.232340</td>\n",
              "      <td>0.011409</td>\n",
              "      <td>0.004634</td>\n",
              "      <td>31.000000</td>\n",
              "    </tr>\n",
              "    <tr>\n",
              "      <th>3</th>\n",
              "      <td>-0.432071</td>\n",
              "      <td>1.647895</td>\n",
              "      <td>-1.669361</td>\n",
              "      <td>-0.349504</td>\n",
              "      <td>0.785785</td>\n",
              "      <td>-0.630647</td>\n",
              "      <td>0.276990</td>\n",
              "      <td>0.586025</td>\n",
              "      <td>-0.484715</td>\n",
              "      <td>-1.376648</td>\n",
              "      <td>...</td>\n",
              "      <td>-0.244633</td>\n",
              "      <td>0.358932</td>\n",
              "      <td>0.873663</td>\n",
              "      <td>-0.178642</td>\n",
              "      <td>-0.017171</td>\n",
              "      <td>-0.207392</td>\n",
              "      <td>-0.157756</td>\n",
              "      <td>-0.237386</td>\n",
              "      <td>0.001934</td>\n",
              "      <td>1.500000</td>\n",
              "    </tr>\n",
              "    <tr>\n",
              "      <th>4</th>\n",
              "      <td>2.014160</td>\n",
              "      <td>-0.137394</td>\n",
              "      <td>-1.015839</td>\n",
              "      <td>0.327269</td>\n",
              "      <td>-0.182179</td>\n",
              "      <td>-0.956571</td>\n",
              "      <td>0.043241</td>\n",
              "      <td>-0.160746</td>\n",
              "      <td>0.363241</td>\n",
              "      <td>0.259452</td>\n",
              "      <td>...</td>\n",
              "      <td>-0.255293</td>\n",
              "      <td>-0.238644</td>\n",
              "      <td>-0.616400</td>\n",
              "      <td>0.347045</td>\n",
              "      <td>0.061561</td>\n",
              "      <td>-0.360196</td>\n",
              "      <td>0.174730</td>\n",
              "      <td>-0.078043</td>\n",
              "      <td>-0.070571</td>\n",
              "      <td>0.890000</td>\n",
              "    </tr>\n",
              "    <tr>\n",
              "      <th>...</th>\n",
              "      <td>...</td>\n",
              "      <td>...</td>\n",
              "      <td>...</td>\n",
              "      <td>...</td>\n",
              "      <td>...</td>\n",
              "      <td>...</td>\n",
              "      <td>...</td>\n",
              "      <td>...</td>\n",
              "      <td>...</td>\n",
              "      <td>...</td>\n",
              "      <td>...</td>\n",
              "      <td>...</td>\n",
              "      <td>...</td>\n",
              "      <td>...</td>\n",
              "      <td>...</td>\n",
              "      <td>...</td>\n",
              "      <td>...</td>\n",
              "      <td>...</td>\n",
              "      <td>...</td>\n",
              "      <td>...</td>\n",
              "      <td>...</td>\n",
              "    </tr>\n",
              "    <tr>\n",
              "      <th>142173</th>\n",
              "      <td>1.886783</td>\n",
              "      <td>1.639560</td>\n",
              "      <td>-2.973184</td>\n",
              "      <td>4.382364</td>\n",
              "      <td>1.728151</td>\n",
              "      <td>-1.160287</td>\n",
              "      <td>0.900785</td>\n",
              "      <td>-0.227811</td>\n",
              "      <td>-1.681046</td>\n",
              "      <td>-0.221013</td>\n",
              "      <td>...</td>\n",
              "      <td>-0.190426</td>\n",
              "      <td>-0.148117</td>\n",
              "      <td>-0.333342</td>\n",
              "      <td>-0.035014</td>\n",
              "      <td>-0.335762</td>\n",
              "      <td>0.282292</td>\n",
              "      <td>0.080391</td>\n",
              "      <td>-0.019657</td>\n",
              "      <td>0.028421</td>\n",
              "      <td>4.441104</td>\n",
              "    </tr>\n",
              "    <tr>\n",
              "      <th>142174</th>\n",
              "      <td>-2.276525</td>\n",
              "      <td>-0.206649</td>\n",
              "      <td>-0.103963</td>\n",
              "      <td>0.189877</td>\n",
              "      <td>1.019341</td>\n",
              "      <td>-1.540396</td>\n",
              "      <td>0.345071</td>\n",
              "      <td>-0.441341</td>\n",
              "      <td>0.669523</td>\n",
              "      <td>0.793090</td>\n",
              "      <td>...</td>\n",
              "      <td>-0.836461</td>\n",
              "      <td>-0.257884</td>\n",
              "      <td>0.219479</td>\n",
              "      <td>1.005735</td>\n",
              "      <td>0.469570</td>\n",
              "      <td>0.086579</td>\n",
              "      <td>0.085500</td>\n",
              "      <td>0.979556</td>\n",
              "      <td>-0.001308</td>\n",
              "      <td>1.488584</td>\n",
              "    </tr>\n",
              "    <tr>\n",
              "      <th>142175</th>\n",
              "      <td>-26.427574</td>\n",
              "      <td>14.910472</td>\n",
              "      <td>-27.788174</td>\n",
              "      <td>6.375366</td>\n",
              "      <td>-19.501373</td>\n",
              "      <td>-4.677337</td>\n",
              "      <td>-18.442359</td>\n",
              "      <td>17.396258</td>\n",
              "      <td>-3.734396</td>\n",
              "      <td>-8.188182</td>\n",
              "      <td>...</td>\n",
              "      <td>1.682079</td>\n",
              "      <td>1.789368</td>\n",
              "      <td>-1.935212</td>\n",
              "      <td>-1.101083</td>\n",
              "      <td>0.154201</td>\n",
              "      <td>1.902770</td>\n",
              "      <td>-0.213243</td>\n",
              "      <td>1.365914</td>\n",
              "      <td>0.398361</td>\n",
              "      <td>99.990000</td>\n",
              "    </tr>\n",
              "    <tr>\n",
              "      <th>142176</th>\n",
              "      <td>-1.147018</td>\n",
              "      <td>1.486446</td>\n",
              "      <td>-1.052202</td>\n",
              "      <td>0.234798</td>\n",
              "      <td>0.287447</td>\n",
              "      <td>-0.665083</td>\n",
              "      <td>-0.540995</td>\n",
              "      <td>-1.210325</td>\n",
              "      <td>-0.519444</td>\n",
              "      <td>-2.475010</td>\n",
              "      <td>...</td>\n",
              "      <td>0.154405</td>\n",
              "      <td>-0.040050</td>\n",
              "      <td>0.112763</td>\n",
              "      <td>-0.127011</td>\n",
              "      <td>-0.033348</td>\n",
              "      <td>0.412744</td>\n",
              "      <td>-0.511825</td>\n",
              "      <td>0.037157</td>\n",
              "      <td>0.007366</td>\n",
              "      <td>38.412715</td>\n",
              "    </tr>\n",
              "    <tr>\n",
              "      <th>142177</th>\n",
              "      <td>-3.612247</td>\n",
              "      <td>0.471188</td>\n",
              "      <td>-3.583007</td>\n",
              "      <td>3.731374</td>\n",
              "      <td>-1.890083</td>\n",
              "      <td>-1.784766</td>\n",
              "      <td>-3.155186</td>\n",
              "      <td>1.538070</td>\n",
              "      <td>-2.218372</td>\n",
              "      <td>-4.421027</td>\n",
              "      <td>...</td>\n",
              "      <td>1.000321</td>\n",
              "      <td>0.763312</td>\n",
              "      <td>-0.185488</td>\n",
              "      <td>-0.230116</td>\n",
              "      <td>0.185290</td>\n",
              "      <td>-0.148907</td>\n",
              "      <td>-0.256996</td>\n",
              "      <td>1.082028</td>\n",
              "      <td>-0.054456</td>\n",
              "      <td>245.242180</td>\n",
              "    </tr>\n",
              "  </tbody>\n",
              "</table>\n",
              "<p>142178 rows × 29 columns</p>\n",
              "</div>\n",
              "      <button class=\"colab-df-convert\" onclick=\"convertToInteractive('df-dbad3902-5484-4ac0-bfc9-bbb2448cf4e8')\"\n",
              "              title=\"Convert this dataframe to an interactive table.\"\n",
              "              style=\"display:none;\">\n",
              "        \n",
              "  <svg xmlns=\"http://www.w3.org/2000/svg\" height=\"24px\"viewBox=\"0 0 24 24\"\n",
              "       width=\"24px\">\n",
              "    <path d=\"M0 0h24v24H0V0z\" fill=\"none\"/>\n",
              "    <path d=\"M18.56 5.44l.94 2.06.94-2.06 2.06-.94-2.06-.94-.94-2.06-.94 2.06-2.06.94zm-11 1L8.5 8.5l.94-2.06 2.06-.94-2.06-.94L8.5 2.5l-.94 2.06-2.06.94zm10 10l.94 2.06.94-2.06 2.06-.94-2.06-.94-.94-2.06-.94 2.06-2.06.94z\"/><path d=\"M17.41 7.96l-1.37-1.37c-.4-.4-.92-.59-1.43-.59-.52 0-1.04.2-1.43.59L10.3 9.45l-7.72 7.72c-.78.78-.78 2.05 0 2.83L4 21.41c.39.39.9.59 1.41.59.51 0 1.02-.2 1.41-.59l7.78-7.78 2.81-2.81c.8-.78.8-2.07 0-2.86zM5.41 20L4 18.59l7.72-7.72 1.47 1.35L5.41 20z\"/>\n",
              "  </svg>\n",
              "      </button>\n",
              "      \n",
              "  <style>\n",
              "    .colab-df-container {\n",
              "      display:flex;\n",
              "      flex-wrap:wrap;\n",
              "      gap: 12px;\n",
              "    }\n",
              "\n",
              "    .colab-df-convert {\n",
              "      background-color: #E8F0FE;\n",
              "      border: none;\n",
              "      border-radius: 50%;\n",
              "      cursor: pointer;\n",
              "      display: none;\n",
              "      fill: #1967D2;\n",
              "      height: 32px;\n",
              "      padding: 0 0 0 0;\n",
              "      width: 32px;\n",
              "    }\n",
              "\n",
              "    .colab-df-convert:hover {\n",
              "      background-color: #E2EBFA;\n",
              "      box-shadow: 0px 1px 2px rgba(60, 64, 67, 0.3), 0px 1px 3px 1px rgba(60, 64, 67, 0.15);\n",
              "      fill: #174EA6;\n",
              "    }\n",
              "\n",
              "    [theme=dark] .colab-df-convert {\n",
              "      background-color: #3B4455;\n",
              "      fill: #D2E3FC;\n",
              "    }\n",
              "\n",
              "    [theme=dark] .colab-df-convert:hover {\n",
              "      background-color: #434B5C;\n",
              "      box-shadow: 0px 1px 3px 1px rgba(0, 0, 0, 0.15);\n",
              "      filter: drop-shadow(0px 1px 2px rgba(0, 0, 0, 0.3));\n",
              "      fill: #FFFFFF;\n",
              "    }\n",
              "  </style>\n",
              "\n",
              "      <script>\n",
              "        const buttonEl =\n",
              "          document.querySelector('#df-dbad3902-5484-4ac0-bfc9-bbb2448cf4e8 button.colab-df-convert');\n",
              "        buttonEl.style.display =\n",
              "          google.colab.kernel.accessAllowed ? 'block' : 'none';\n",
              "\n",
              "        async function convertToInteractive(key) {\n",
              "          const element = document.querySelector('#df-dbad3902-5484-4ac0-bfc9-bbb2448cf4e8');\n",
              "          const dataTable =\n",
              "            await google.colab.kernel.invokeFunction('convertToInteractive',\n",
              "                                                     [key], {});\n",
              "          if (!dataTable) return;\n",
              "\n",
              "          const docLinkHtml = 'Like what you see? Visit the ' +\n",
              "            '<a target=\"_blank\" href=https://colab.research.google.com/notebooks/data_table.ipynb>data table notebook</a>'\n",
              "            + ' to learn more about interactive tables.';\n",
              "          element.innerHTML = '';\n",
              "          dataTable['output_type'] = 'display_data';\n",
              "          await google.colab.output.renderOutput(dataTable, element);\n",
              "          const docLink = document.createElement('div');\n",
              "          docLink.innerHTML = docLinkHtml;\n",
              "          element.appendChild(docLink);\n",
              "        }\n",
              "      </script>\n",
              "    </div>\n",
              "  </div>\n",
              "  "
            ],
            "text/plain": [
              "               V1         V2         V3        V4         V5        V6  \\\n",
              "0      -16.526507   8.584972 -18.649853  9.505594 -13.793819 -2.832404   \n",
              "1        0.339812  -2.743745  -0.134070 -1.385729  -1.451413  1.015887   \n",
              "2        1.399590  -0.590701   0.168619 -1.029950  -0.539806  0.040444   \n",
              "3       -0.432071   1.647895  -1.669361 -0.349504   0.785785 -0.630647   \n",
              "4        2.014160  -0.137394  -1.015839  0.327269  -0.182179 -0.956571   \n",
              "...           ...        ...        ...       ...        ...       ...   \n",
              "142173   1.886783   1.639560  -2.973184  4.382364   1.728151 -1.160287   \n",
              "142174  -2.276525  -0.206649  -0.103963  0.189877   1.019341 -1.540396   \n",
              "142175 -26.427574  14.910472 -27.788174  6.375366 -19.501373 -4.677337   \n",
              "142176  -1.147018   1.486446  -1.052202  0.234798   0.287447 -0.665083   \n",
              "142177  -3.612247   0.471188  -3.583007  3.731374  -1.890083 -1.784766   \n",
              "\n",
              "               V7         V8        V9        V10  ...       V20       V21  \\\n",
              "0      -16.701694   7.517344 -8.507059 -14.110184  ... -1.514923  1.190739   \n",
              "1       -0.524379   0.224060  0.899746  -0.565012  ...  0.506044 -0.213436   \n",
              "2       -0.712567   0.002299 -0.971747   0.756801  ...  0.212877  0.102398   \n",
              "3        0.276990   0.586025 -0.484715  -1.376648  ... -0.244633  0.358932   \n",
              "4        0.043241  -0.160746  0.363241   0.259452  ... -0.255293 -0.238644   \n",
              "...           ...        ...       ...        ...  ...       ...       ...   \n",
              "142173   0.900785  -0.227811 -1.681046  -0.221013  ... -0.190426 -0.148117   \n",
              "142174   0.345071  -0.441341  0.669523   0.793090  ... -0.836461 -0.257884   \n",
              "142175 -18.442359  17.396258 -3.734396  -8.188182  ...  1.682079  1.789368   \n",
              "142176  -0.540995  -1.210325 -0.519444  -2.475010  ...  0.154405 -0.040050   \n",
              "142177  -3.155186   1.538070 -2.218372  -4.421027  ...  1.000321  0.763312   \n",
              "\n",
              "             V22       V23       V24       V25       V26       V27       V28  \\\n",
              "0      -1.127670 -2.358579  0.673461 -1.413700 -0.462762 -2.018575 -1.042804   \n",
              "1      -0.942525 -0.526819 -1.156992  0.311211 -0.746647  0.040996  0.102038   \n",
              "2       0.168269 -0.166639 -0.810250  0.505083 -0.232340  0.011409  0.004634   \n",
              "3       0.873663 -0.178642 -0.017171 -0.207392 -0.157756 -0.237386  0.001934   \n",
              "4      -0.616400  0.347045  0.061561 -0.360196  0.174730 -0.078043 -0.070571   \n",
              "...          ...       ...       ...       ...       ...       ...       ...   \n",
              "142173 -0.333342 -0.035014 -0.335762  0.282292  0.080391 -0.019657  0.028421   \n",
              "142174  0.219479  1.005735  0.469570  0.086579  0.085500  0.979556 -0.001308   \n",
              "142175 -1.935212 -1.101083  0.154201  1.902770 -0.213243  1.365914  0.398361   \n",
              "142176  0.112763 -0.127011 -0.033348  0.412744 -0.511825  0.037157  0.007366   \n",
              "142177 -0.185488 -0.230116  0.185290 -0.148907 -0.256996  1.082028 -0.054456   \n",
              "\n",
              "            Amount  \n",
              "0       364.190000  \n",
              "1       520.120000  \n",
              "2        31.000000  \n",
              "3         1.500000  \n",
              "4         0.890000  \n",
              "...            ...  \n",
              "142173    4.441104  \n",
              "142174    1.488584  \n",
              "142175   99.990000  \n",
              "142176   38.412715  \n",
              "142177  245.242180  \n",
              "\n",
              "[142178 rows x 29 columns]"
            ]
          },
          "execution_count": 17,
          "metadata": {},
          "output_type": "execute_result"
        }
      ],
      "source": [
        "x_test"
      ],
      "id": "HL37yi3GKBxy"
    },
    {
      "cell_type": "code",
      "execution_count": null,
      "metadata": {
        "colab": {
          "base_uri": "https://localhost:8080/"
        },
        "id": "laS6hdsuKNpD",
        "outputId": "79732418-402c-4525-98a1-5c9b0a4deb15"
      },
      "outputs": [
        {
          "data": {
            "text/plain": [
              "1    71089\n",
              "0    71089\n",
              "Name: Class, dtype: int64"
            ]
          },
          "execution_count": 18,
          "metadata": {},
          "output_type": "execute_result"
        }
      ],
      "source": [
        "y_test.value_counts()"
      ],
      "id": "laS6hdsuKNpD"
    },
    {
      "cell_type": "markdown",
      "metadata": {
        "id": "e67e37cc"
      },
      "source": [
        "## Classical Machine learning  Models"
      ],
      "id": "e67e37cc"
    },
    {
      "cell_type": "markdown",
      "metadata": {
        "id": "_fXUwfCEOhRl"
      },
      "source": [
        "## Linear Models"
      ],
      "id": "_fXUwfCEOhRl"
    },
    {
      "cell_type": "markdown",
      "metadata": {
        "id": "7SLcTjgoOXQP"
      },
      "source": [
        "1.Logistic Regression "
      ],
      "id": "7SLcTjgoOXQP"
    },
    {
      "cell_type": "code",
      "execution_count": null,
      "metadata": {
        "colab": {
          "base_uri": "https://localhost:8080/"
        },
        "id": "Bu3w9lJ9Ktj5",
        "outputId": "31bc033b-08a5-49c4-caf9-6801c865af69"
      },
      "outputs": [
        {
          "name": "stderr",
          "output_type": "stream",
          "text": [
            "/usr/local/lib/python3.8/dist-packages/sklearn/linear_model/_logistic.py:814: ConvergenceWarning: lbfgs failed to converge (status=1):\n",
            "STOP: TOTAL NO. of ITERATIONS REACHED LIMIT.\n",
            "\n",
            "Increase the number of iterations (max_iter) or scale the data as shown in:\n",
            "    https://scikit-learn.org/stable/modules/preprocessing.html\n",
            "Please also refer to the documentation for alternative solver options:\n",
            "    https://scikit-learn.org/stable/modules/linear_model.html#logistic-regression\n",
            "  n_iter_i = _check_optimize_result(\n"
          ]
        },
        {
          "data": {
            "text/plain": [
              "LogisticRegression()"
            ]
          },
          "execution_count": 19,
          "metadata": {},
          "output_type": "execute_result"
        }
      ],
      "source": [
        "from sklearn.metrics import classification_report\n",
        "from sklearn.linear_model import LogisticRegression\n",
        "model = LogisticRegression()\n",
        "model.fit(x_train, y_train)"
      ],
      "id": "Bu3w9lJ9Ktj5"
    },
    {
      "cell_type": "code",
      "execution_count": null,
      "metadata": {
        "colab": {
          "base_uri": "https://localhost:8080/"
        },
        "id": "CDQm_EfjNr67",
        "outputId": "450a0dde-2088-4e74-a84b-93519456d836"
      },
      "outputs": [
        {
          "name": "stdout",
          "output_type": "stream",
          "text": [
            "              precision    recall  f1-score   support\n",
            "\n",
            "           0       0.94      0.98      0.96    213226\n",
            "           1       0.98      0.94      0.96    213226\n",
            "\n",
            "    accuracy                           0.96    426452\n",
            "   macro avg       0.96      0.96      0.96    426452\n",
            "weighted avg       0.96      0.96      0.96    426452\n",
            "\n"
          ]
        }
      ],
      "source": [
        "#evaluation on train data\n",
        "y_pre=model.predict(x_train)\n",
        "print(classification_report(y_train, y_pre))"
      ],
      "id": "CDQm_EfjNr67"
    },
    {
      "cell_type": "code",
      "execution_count": null,
      "metadata": {
        "colab": {
          "base_uri": "https://localhost:8080/"
        },
        "id": "O9lgWazAOuHe",
        "outputId": "69e63259-9521-4121-837a-e37abdbf857d"
      },
      "outputs": [
        {
          "name": "stdout",
          "output_type": "stream",
          "text": [
            "              precision    recall  f1-score   support\n",
            "\n",
            "           0       0.95      0.98      0.97     71089\n",
            "           1       0.98      0.95      0.96     71089\n",
            "\n",
            "    accuracy                           0.97    142178\n",
            "   macro avg       0.97      0.97      0.97    142178\n",
            "weighted avg       0.97      0.97      0.97    142178\n",
            "\n"
          ]
        }
      ],
      "source": [
        "#evaluation on test data\n",
        "y_pre=model.predict(x_test)\n",
        "print(classification_report(y_test, y_pre))"
      ],
      "id": "O9lgWazAOuHe"
    },
    {
      "cell_type": "markdown",
      "metadata": {
        "id": "gtXeWbvKQJLY"
      },
      "source": [
        " 2.Logistic Regression CV"
      ],
      "id": "gtXeWbvKQJLY"
    },
    {
      "cell_type": "code",
      "execution_count": null,
      "metadata": {
        "colab": {
          "base_uri": "https://localhost:8080/"
        },
        "id": "UH9-X3VgRNPz",
        "outputId": "a873dfe7-a0c8-4501-a513-9ecccd2b0311"
      },
      "outputs": [
        {
          "name": "stderr",
          "output_type": "stream",
          "text": [
            "/usr/local/lib/python3.8/dist-packages/sklearn/linear_model/_logistic.py:814: ConvergenceWarning: lbfgs failed to converge (status=1):\n",
            "STOP: TOTAL NO. of ITERATIONS REACHED LIMIT.\n",
            "\n",
            "Increase the number of iterations (max_iter) or scale the data as shown in:\n",
            "    https://scikit-learn.org/stable/modules/preprocessing.html\n",
            "Please also refer to the documentation for alternative solver options:\n",
            "    https://scikit-learn.org/stable/modules/linear_model.html#logistic-regression\n",
            "  n_iter_i = _check_optimize_result(\n"
          ]
        },
        {
          "data": {
            "text/plain": [
              "LogisticRegression()"
            ]
          },
          "execution_count": 22,
          "metadata": {},
          "output_type": "execute_result"
        }
      ],
      "source": [
        "from sklearn.linear_model import LogisticRegressionCV\n",
        "model = LogisticRegression()\n",
        "model.fit(x_train, y_train)"
      ],
      "id": "UH9-X3VgRNPz"
    },
    {
      "cell_type": "code",
      "execution_count": null,
      "metadata": {
        "colab": {
          "base_uri": "https://localhost:8080/"
        },
        "id": "yEGvePEvRhej",
        "outputId": "33a735db-217b-46b2-f66c-5eea92203b7c"
      },
      "outputs": [
        {
          "name": "stdout",
          "output_type": "stream",
          "text": [
            "              precision    recall  f1-score   support\n",
            "\n",
            "           0       0.94      0.98      0.96    213226\n",
            "           1       0.98      0.94      0.96    213226\n",
            "\n",
            "    accuracy                           0.96    426452\n",
            "   macro avg       0.96      0.96      0.96    426452\n",
            "weighted avg       0.96      0.96      0.96    426452\n",
            "\n"
          ]
        }
      ],
      "source": [
        "#evaluation on train data\n",
        "y_pre=model.predict(x_train)\n",
        "print(classification_report(y_train, y_pre))"
      ],
      "id": "yEGvePEvRhej"
    },
    {
      "cell_type": "code",
      "execution_count": null,
      "metadata": {
        "colab": {
          "base_uri": "https://localhost:8080/"
        },
        "id": "6hDlzgsYRn7E",
        "outputId": "aeeb339c-db41-40f0-bcf5-b1323cc68ac8"
      },
      "outputs": [
        {
          "name": "stdout",
          "output_type": "stream",
          "text": [
            "              precision    recall  f1-score   support\n",
            "\n",
            "           0       0.95      0.98      0.97     71089\n",
            "           1       0.98      0.95      0.96     71089\n",
            "\n",
            "    accuracy                           0.97    142178\n",
            "   macro avg       0.97      0.97      0.97    142178\n",
            "weighted avg       0.97      0.97      0.97    142178\n",
            "\n"
          ]
        }
      ],
      "source": [
        "#evaluation on test\n",
        "y_pre=model.predict(x_test)\n",
        "print(classification_report(y_test, y_pre))"
      ],
      "id": "6hDlzgsYRn7E"
    },
    {
      "cell_type": "markdown",
      "metadata": {
        "id": "f_hcsl3GSeT3"
      },
      "source": [
        "3.Passive Aggressive Classifier"
      ],
      "id": "f_hcsl3GSeT3"
    },
    {
      "cell_type": "code",
      "execution_count": null,
      "metadata": {
        "colab": {
          "base_uri": "https://localhost:8080/"
        },
        "id": "8ouZ6WiYRtvd",
        "outputId": "53b69d77-bcb3-4f5c-c833-afba7aa5f135"
      },
      "outputs": [
        {
          "data": {
            "text/plain": [
              "PassiveAggressiveClassifier()"
            ]
          },
          "execution_count": 25,
          "metadata": {},
          "output_type": "execute_result"
        }
      ],
      "source": [
        "from sklearn.linear_model import PassiveAggressiveClassifier\n",
        "model = PassiveAggressiveClassifier()\n",
        "model.fit(x_train, y_train)"
      ],
      "id": "8ouZ6WiYRtvd"
    },
    {
      "cell_type": "code",
      "execution_count": null,
      "metadata": {
        "colab": {
          "base_uri": "https://localhost:8080/"
        },
        "id": "JX5iV-rjTGJu",
        "outputId": "f940cb28-a9f2-4c90-a52c-3321abc22517"
      },
      "outputs": [
        {
          "name": "stdout",
          "output_type": "stream",
          "text": [
            "              precision    recall  f1-score   support\n",
            "\n",
            "           0       0.95      0.91      0.93    213226\n",
            "           1       0.91      0.95      0.93    213226\n",
            "\n",
            "    accuracy                           0.93    426452\n",
            "   macro avg       0.93      0.93      0.93    426452\n",
            "weighted avg       0.93      0.93      0.93    426452\n",
            "\n"
          ]
        }
      ],
      "source": [
        "#evaluation on train data\n",
        "y_pre=model.predict(x_train)\n",
        "print(classification_report(y_train, y_pre))"
      ],
      "id": "JX5iV-rjTGJu"
    },
    {
      "cell_type": "code",
      "execution_count": null,
      "metadata": {
        "colab": {
          "base_uri": "https://localhost:8080/"
        },
        "id": "z60-cnLOTTFV",
        "outputId": "a5e71e24-3fda-4eff-acc3-7686d336fbb2"
      },
      "outputs": [
        {
          "name": "stdout",
          "output_type": "stream",
          "text": [
            "              precision    recall  f1-score   support\n",
            "\n",
            "           0       0.93      0.91      0.92     71089\n",
            "           1       0.91      0.93      0.92     71089\n",
            "\n",
            "    accuracy                           0.92    142178\n",
            "   macro avg       0.92      0.92      0.92    142178\n",
            "weighted avg       0.92      0.92      0.92    142178\n",
            "\n"
          ]
        }
      ],
      "source": [
        "#evaluation on test\n",
        "y_pre=model.predict(x_test)\n",
        "print(classification_report(y_test, y_pre))"
      ],
      "id": "z60-cnLOTTFV"
    },
    {
      "cell_type": "markdown",
      "metadata": {
        "id": "cR5wszuCTxEV"
      },
      "source": [
        "4.Perceptron"
      ],
      "id": "cR5wszuCTxEV"
    },
    {
      "cell_type": "code",
      "execution_count": null,
      "metadata": {
        "colab": {
          "base_uri": "https://localhost:8080/"
        },
        "id": "y4yPwFlHTZhG",
        "outputId": "183f6e3c-5d60-404a-c504-5010b533efbb"
      },
      "outputs": [
        {
          "data": {
            "text/plain": [
              "Perceptron()"
            ]
          },
          "execution_count": 28,
          "metadata": {},
          "output_type": "execute_result"
        }
      ],
      "source": [
        "from sklearn.linear_model import Perceptron\n",
        "model = Perceptron()\n",
        "model.fit(x_train, y_train)"
      ],
      "id": "y4yPwFlHTZhG"
    },
    {
      "cell_type": "code",
      "execution_count": null,
      "metadata": {
        "colab": {
          "base_uri": "https://localhost:8080/"
        },
        "id": "_jPWaZsgT1xH",
        "outputId": "b8adbcfb-8b52-4466-b2ef-af1f922b5fee"
      },
      "outputs": [
        {
          "name": "stdout",
          "output_type": "stream",
          "text": [
            "              precision    recall  f1-score   support\n",
            "\n",
            "           0       0.96      0.96      0.96    213226\n",
            "           1       0.96      0.96      0.96    213226\n",
            "\n",
            "    accuracy                           0.96    426452\n",
            "   macro avg       0.96      0.96      0.96    426452\n",
            "weighted avg       0.96      0.96      0.96    426452\n",
            "\n"
          ]
        }
      ],
      "source": [
        "#evaluation on train data\n",
        "y_pre=model.predict(x_train)\n",
        "print(classification_report(y_train, y_pre))"
      ],
      "id": "_jPWaZsgT1xH"
    },
    {
      "cell_type": "code",
      "execution_count": null,
      "metadata": {
        "colab": {
          "base_uri": "https://localhost:8080/"
        },
        "id": "lW7VE6spUIoJ",
        "outputId": "00239288-d1c5-4007-b453-7b29f671ecac"
      },
      "outputs": [
        {
          "name": "stdout",
          "output_type": "stream",
          "text": [
            "              precision    recall  f1-score   support\n",
            "\n",
            "           0       0.96      0.96      0.96     71089\n",
            "           1       0.96      0.96      0.96     71089\n",
            "\n",
            "    accuracy                           0.96    142178\n",
            "   macro avg       0.96      0.96      0.96    142178\n",
            "weighted avg       0.96      0.96      0.96    142178\n",
            "\n"
          ]
        }
      ],
      "source": [
        "#evaluation on test\n",
        "y_pre=model.predict(x_test)\n",
        "print(classification_report(y_test, y_pre))"
      ],
      "id": "lW7VE6spUIoJ"
    },
    {
      "cell_type": "markdown",
      "metadata": {
        "id": "jMzkUVGnUfnp"
      },
      "source": [
        "5.RidgeClassifier"
      ],
      "id": "jMzkUVGnUfnp"
    },
    {
      "cell_type": "code",
      "execution_count": null,
      "metadata": {
        "colab": {
          "base_uri": "https://localhost:8080/"
        },
        "id": "gEzi6xH9UKAW",
        "outputId": "baf0e6c1-3d62-4329-9761-65504e5822ae"
      },
      "outputs": [
        {
          "data": {
            "text/plain": [
              "RidgeClassifier()"
            ]
          },
          "execution_count": 31,
          "metadata": {},
          "output_type": "execute_result"
        }
      ],
      "source": [
        "from sklearn.linear_model import RidgeClassifier\n",
        "model = RidgeClassifier()\n",
        "model.fit(x_train, y_train)"
      ],
      "id": "gEzi6xH9UKAW"
    },
    {
      "cell_type": "code",
      "execution_count": null,
      "metadata": {
        "colab": {
          "base_uri": "https://localhost:8080/"
        },
        "id": "dpFFN3ZZUiBD",
        "outputId": "6ba74115-5ba9-4404-9bf3-73714a3d259f"
      },
      "outputs": [
        {
          "name": "stdout",
          "output_type": "stream",
          "text": [
            "              precision    recall  f1-score   support\n",
            "\n",
            "           0       0.87      0.99      0.93    213226\n",
            "           1       0.99      0.85      0.92    213226\n",
            "\n",
            "    accuracy                           0.92    426452\n",
            "   macro avg       0.93      0.92      0.92    426452\n",
            "weighted avg       0.93      0.92      0.92    426452\n",
            "\n"
          ]
        }
      ],
      "source": [
        "#evaluation on train data\n",
        "y_pre=model.predict(x_train)\n",
        "print(classification_report(y_train, y_pre))"
      ],
      "id": "dpFFN3ZZUiBD"
    },
    {
      "cell_type": "code",
      "execution_count": null,
      "metadata": {
        "colab": {
          "base_uri": "https://localhost:8080/"
        },
        "id": "9rDwd6UgUyyn",
        "outputId": "df3d1b42-1632-4d8a-a88e-e8693be69bf6"
      },
      "outputs": [
        {
          "name": "stdout",
          "output_type": "stream",
          "text": [
            "              precision    recall  f1-score   support\n",
            "\n",
            "           0       0.89      0.99      0.94     71089\n",
            "           1       0.99      0.88      0.93     71089\n",
            "\n",
            "    accuracy                           0.94    142178\n",
            "   macro avg       0.94      0.94      0.94    142178\n",
            "weighted avg       0.94      0.94      0.94    142178\n",
            "\n"
          ]
        }
      ],
      "source": [
        "#evaluation on test\n",
        "y_pre=model.predict(x_test)\n",
        "print(classification_report(y_test, y_pre))"
      ],
      "id": "9rDwd6UgUyyn"
    },
    {
      "cell_type": "markdown",
      "metadata": {
        "id": "TRtUcH12XmOb"
      },
      "source": [
        "6.SGDClassifier"
      ],
      "id": "TRtUcH12XmOb"
    },
    {
      "cell_type": "code",
      "execution_count": null,
      "metadata": {
        "colab": {
          "base_uri": "https://localhost:8080/"
        },
        "id": "UYepySxxU3YU",
        "outputId": "76cd6d0f-e62b-44c0-d7a9-dadbc70a2ef4"
      },
      "outputs": [
        {
          "data": {
            "text/plain": [
              "SGDClassifier()"
            ]
          },
          "execution_count": 34,
          "metadata": {},
          "output_type": "execute_result"
        }
      ],
      "source": [
        "from sklearn.linear_model import SGDClassifier\n",
        "model =SGDClassifier()\n",
        "model.fit(x_train, y_train)\n"
      ],
      "id": "UYepySxxU3YU"
    },
    {
      "cell_type": "code",
      "execution_count": null,
      "metadata": {
        "colab": {
          "base_uri": "https://localhost:8080/"
        },
        "id": "Cl0xJ2mDX3WF",
        "outputId": "270f8e8b-20da-442b-d1c9-433a645d4a19"
      },
      "outputs": [
        {
          "name": "stdout",
          "output_type": "stream",
          "text": [
            "              precision    recall  f1-score   support\n",
            "\n",
            "           0       0.93      0.98      0.96    213226\n",
            "           1       0.98      0.93      0.95    213226\n",
            "\n",
            "    accuracy                           0.95    426452\n",
            "   macro avg       0.96      0.95      0.95    426452\n",
            "weighted avg       0.96      0.95      0.95    426452\n",
            "\n"
          ]
        }
      ],
      "source": [
        "#evaluation on train data\n",
        "y_pre=model.predict(x_train)\n",
        "print(classification_report(y_train, y_pre))"
      ],
      "id": "Cl0xJ2mDX3WF"
    },
    {
      "cell_type": "code",
      "execution_count": null,
      "metadata": {
        "colab": {
          "base_uri": "https://localhost:8080/"
        },
        "id": "2fkIHck9YAFG",
        "outputId": "85d6ec62-ca29-4d4f-e574-a94543733c9d"
      },
      "outputs": [
        {
          "name": "stdout",
          "output_type": "stream",
          "text": [
            "              precision    recall  f1-score   support\n",
            "\n",
            "           0       0.94      0.98      0.96     71089\n",
            "           1       0.98      0.94      0.96     71089\n",
            "\n",
            "    accuracy                           0.96    142178\n",
            "   macro avg       0.96      0.96      0.96    142178\n",
            "weighted avg       0.96      0.96      0.96    142178\n",
            "\n"
          ]
        }
      ],
      "source": [
        "#evaluation on test\n",
        "y_pre=model.predict(x_test)\n",
        "print(classification_report(y_test, y_pre))"
      ],
      "id": "2fkIHck9YAFG"
    },
    {
      "cell_type": "markdown",
      "metadata": {
        "id": "VAS2NIiSao7I"
      },
      "source": [
        "# Ensemble Methods"
      ],
      "id": "VAS2NIiSao7I"
    },
    {
      "cell_type": "markdown",
      "metadata": {
        "id": "L0dguVuwfhnz"
      },
      "source": [
        "## Boosting"
      ],
      "id": "L0dguVuwfhnz"
    },
    {
      "cell_type": "markdown",
      "metadata": {
        "id": "4CLkv_EyPWNZ"
      },
      "source": [
        "#### AdaBoostClassifier"
      ],
      "id": "4CLkv_EyPWNZ"
    },
    {
      "cell_type": "code",
      "execution_count": null,
      "metadata": {
        "colab": {
          "background_save": true
        },
        "id": "Lp_EyKwjMD62",
        "outputId": "8cc33b68-8658-49dc-a9f7-a8b2642cfb53"
      },
      "outputs": [
        {
          "data": {
            "text/plain": [
              "AdaBoostClassifier(n_estimators=100)"
            ]
          },
          "execution_count": 37,
          "metadata": {},
          "output_type": "execute_result"
        }
      ],
      "source": [
        "from sklearn.ensemble import AdaBoostClassifier\n",
        "model = AdaBoostClassifier(n_estimators=100)\n",
        "model.fit(x_train,y_train)"
      ],
      "id": "Lp_EyKwjMD62"
    },
    {
      "cell_type": "code",
      "execution_count": null,
      "metadata": {
        "colab": {
          "background_save": true
        },
        "id": "mkb2ZgZ3MP16",
        "outputId": "8826fa8a-256f-4895-8053-8fcd6a4e461a"
      },
      "outputs": [
        {
          "name": "stdout",
          "output_type": "stream",
          "text": [
            "              precision    recall  f1-score   support\n",
            "\n",
            "           0       0.98      0.99      0.98    213226\n",
            "           1       0.99      0.98      0.98    213226\n",
            "\n",
            "    accuracy                           0.98    426452\n",
            "   macro avg       0.98      0.98      0.98    426452\n",
            "weighted avg       0.98      0.98      0.98    426452\n",
            "\n"
          ]
        }
      ],
      "source": [
        "#evaluation on train data\n",
        "y_pre=model.predict(x_train)\n",
        "print(classification_report(y_train, y_pre))"
      ],
      "id": "mkb2ZgZ3MP16"
    },
    {
      "cell_type": "code",
      "execution_count": 41,
      "metadata": {
        "colab": {
          "base_uri": "https://localhost:8080/"
        },
        "id": "24HZz0PgO57P",
        "outputId": "6194041a-e0f0-493e-9153-27b04c994817"
      },
      "outputs": [
        {
          "output_type": "stream",
          "name": "stdout",
          "text": [
            "              precision    recall  f1-score   support\n",
            "\n",
            "           0       0.96      0.99      0.97     71089\n",
            "           1       0.99      0.96      0.97     71089\n",
            "\n",
            "    accuracy                           0.97    142178\n",
            "   macro avg       0.97      0.97      0.97    142178\n",
            "weighted avg       0.97      0.97      0.97    142178\n",
            "\n"
          ]
        }
      ],
      "source": [
        "#evaluation on test\n",
        "y_pre=model.predict(x_test)\n",
        "print(classification_report(y_test, y_pre))"
      ],
      "id": "24HZz0PgO57P"
    },
    {
      "cell_type": "markdown",
      "source": [
        "#### GradientBoostingClassifier"
      ],
      "metadata": {
        "id": "HA6JTvORuxKX"
      },
      "id": "HA6JTvORuxKX"
    },
    {
      "cell_type": "code",
      "execution_count": 42,
      "metadata": {
        "colab": {
          "base_uri": "https://localhost:8080/"
        },
        "id": "dt1zMR99PeKP",
        "outputId": "db1f630e-e224-43e7-b2fb-8cbf301c7145"
      },
      "outputs": [
        {
          "output_type": "execute_result",
          "data": {
            "text/plain": [
              "GradientBoostingClassifier(learning_rate=1.0, max_depth=1, random_state=0)"
            ]
          },
          "metadata": {},
          "execution_count": 42
        }
      ],
      "source": [
        "from sklearn.ensemble import GradientBoostingClassifier\n",
        "model=GradientBoostingClassifier(n_estimators=100, learning_rate=1.0,max_depth=1, random_state=0)\n",
        "model.fit(x_train, y_train)"
      ],
      "id": "dt1zMR99PeKP"
    },
    {
      "cell_type": "code",
      "source": [
        "#evaluation on train data\n",
        "y_pre=model.predict(x_train)\n",
        "print(classification_report(y_train, y_pre))"
      ],
      "metadata": {
        "colab": {
          "base_uri": "https://localhost:8080/"
        },
        "id": "_s9FDILNvXKA",
        "outputId": "38793314-42d2-41c6-ee27-c13e8a2d6769"
      },
      "id": "_s9FDILNvXKA",
      "execution_count": 43,
      "outputs": [
        {
          "output_type": "stream",
          "name": "stdout",
          "text": [
            "              precision    recall  f1-score   support\n",
            "\n",
            "           0       0.98      0.98      0.98    213226\n",
            "           1       0.98      0.98      0.98    213226\n",
            "\n",
            "    accuracy                           0.98    426452\n",
            "   macro avg       0.98      0.98      0.98    426452\n",
            "weighted avg       0.98      0.98      0.98    426452\n",
            "\n"
          ]
        }
      ]
    },
    {
      "cell_type": "code",
      "source": [
        "#evaluation on test\n",
        "y_pre=model.predict(x_test)\n",
        "print(classification_report(y_test, y_pre))"
      ],
      "metadata": {
        "colab": {
          "base_uri": "https://localhost:8080/"
        },
        "id": "D1KNc6xYva4C",
        "outputId": "a32f4db2-f5ec-45bb-a7e3-3043041da769"
      },
      "id": "D1KNc6xYva4C",
      "execution_count": 44,
      "outputs": [
        {
          "output_type": "stream",
          "name": "stdout",
          "text": [
            "              precision    recall  f1-score   support\n",
            "\n",
            "           0       0.96      0.98      0.97     71089\n",
            "           1       0.98      0.96      0.97     71089\n",
            "\n",
            "    accuracy                           0.97    142178\n",
            "   macro avg       0.97      0.97      0.97    142178\n",
            "weighted avg       0.97      0.97      0.97    142178\n",
            "\n"
          ]
        }
      ]
    },
    {
      "cell_type": "markdown",
      "source": [
        "#### XGboost"
      ],
      "metadata": {
        "id": "7RfkgW1uw7HT"
      },
      "id": "7RfkgW1uw7HT"
    },
    {
      "cell_type": "code",
      "source": [
        "import xgboost as xgb\n",
        "model = xgb.XGBClassifier(learning_rate=0.001, max_depth=1, n_estimators=100)\n",
        "model.fit(x_train, y_train)"
      ],
      "metadata": {
        "colab": {
          "base_uri": "https://localhost:8080/"
        },
        "id": "GEGgOucqxMbN",
        "outputId": "76ad3c10-bcf7-4b2e-b5a6-138b42b90c89"
      },
      "id": "GEGgOucqxMbN",
      "execution_count": 46,
      "outputs": [
        {
          "output_type": "execute_result",
          "data": {
            "text/plain": [
              "XGBClassifier(learning_rate=0.001, max_depth=1)"
            ]
          },
          "metadata": {},
          "execution_count": 46
        }
      ]
    },
    {
      "cell_type": "code",
      "source": [
        "#evaluation on train data\n",
        "y_pre=model.predict(x_train)\n",
        "print(classification_report(y_train, y_pre))"
      ],
      "metadata": {
        "colab": {
          "base_uri": "https://localhost:8080/"
        },
        "id": "oyar6104xRLc",
        "outputId": "9c4f7e48-323c-4f85-f8b2-a2b7a56e0dd0"
      },
      "id": "oyar6104xRLc",
      "execution_count": 47,
      "outputs": [
        {
          "output_type": "stream",
          "name": "stdout",
          "text": [
            "              precision    recall  f1-score   support\n",
            "\n",
            "           0       0.90      0.97      0.93    213226\n",
            "           1       0.97      0.89      0.93    213226\n",
            "\n",
            "    accuracy                           0.93    426452\n",
            "   macro avg       0.93      0.93      0.93    426452\n",
            "weighted avg       0.93      0.93      0.93    426452\n",
            "\n"
          ]
        }
      ]
    },
    {
      "cell_type": "code",
      "source": [
        "#evaluation on test\n",
        "y_pre=model.predict(x_test)\n",
        "print(classification_report(y_test, y_pre))"
      ],
      "metadata": {
        "colab": {
          "base_uri": "https://localhost:8080/"
        },
        "id": "6vCFFTxrxwsC",
        "outputId": "955b024b-c7eb-498b-c56a-7542c187b8e2"
      },
      "id": "6vCFFTxrxwsC",
      "execution_count": 48,
      "outputs": [
        {
          "output_type": "stream",
          "name": "stdout",
          "text": [
            "              precision    recall  f1-score   support\n",
            "\n",
            "           0       0.91      0.97      0.94     71089\n",
            "           1       0.97      0.90      0.93     71089\n",
            "\n",
            "    accuracy                           0.94    142178\n",
            "   macro avg       0.94      0.94      0.94    142178\n",
            "weighted avg       0.94      0.94      0.94    142178\n",
            "\n"
          ]
        }
      ]
    },
    {
      "cell_type": "markdown",
      "source": [
        "## Bagging "
      ],
      "metadata": {
        "id": "0J7YS7T3x70C"
      },
      "id": "0J7YS7T3x70C"
    },
    {
      "cell_type": "markdown",
      "source": [
        "#### Randomforest"
      ],
      "metadata": {
        "id": "-gTos6DH16VK"
      },
      "id": "-gTos6DH16VK"
    },
    {
      "cell_type": "code",
      "source": [
        "from sklearn.ensemble import BaggingClassifier\n",
        "model=BaggingClassifier(n_estimators=10, random_state=0)\n",
        "model.fit(x_train, y_train)\n"
      ],
      "metadata": {
        "colab": {
          "base_uri": "https://localhost:8080/"
        },
        "id": "QYRwqcucyB91",
        "outputId": "4b2c3686-2cb9-4de3-caa6-6da081c644cd"
      },
      "id": "QYRwqcucyB91",
      "execution_count": 52,
      "outputs": [
        {
          "output_type": "execute_result",
          "data": {
            "text/plain": [
              "BaggingClassifier(random_state=0)"
            ]
          },
          "metadata": {},
          "execution_count": 52
        }
      ]
    },
    {
      "cell_type": "code",
      "source": [
        "#evaluation on train data\n",
        "y_pre=model.predict(x_train)\n",
        "print(classification_report(y_train, y_pre))"
      ],
      "metadata": {
        "colab": {
          "base_uri": "https://localhost:8080/"
        },
        "id": "VmLtnsoY2hid",
        "outputId": "4b600258-ed8a-4fc3-ffea-33a0dec5d2ed"
      },
      "id": "VmLtnsoY2hid",
      "execution_count": 53,
      "outputs": [
        {
          "output_type": "stream",
          "name": "stdout",
          "text": [
            "              precision    recall  f1-score   support\n",
            "\n",
            "           0       1.00      1.00      1.00    213226\n",
            "           1       1.00      1.00      1.00    213226\n",
            "\n",
            "    accuracy                           1.00    426452\n",
            "   macro avg       1.00      1.00      1.00    426452\n",
            "weighted avg       1.00      1.00      1.00    426452\n",
            "\n"
          ]
        }
      ]
    },
    {
      "cell_type": "code",
      "source": [
        "#evaluation on test\n",
        "y_pre=model.predict(x_test)\n",
        "print(classification_report(y_test, y_pre))\n"
      ],
      "metadata": {
        "colab": {
          "base_uri": "https://localhost:8080/"
        },
        "id": "I_N4eDD02llp",
        "outputId": "9b9d555b-306d-45ef-9ce1-cebca7587b1c"
      },
      "id": "I_N4eDD02llp",
      "execution_count": 54,
      "outputs": [
        {
          "output_type": "stream",
          "name": "stdout",
          "text": [
            "              precision    recall  f1-score   support\n",
            "\n",
            "           0       0.88      1.00      0.94     71089\n",
            "           1       1.00      0.87      0.93     71089\n",
            "\n",
            "    accuracy                           0.93    142178\n",
            "   macro avg       0.94      0.93      0.93    142178\n",
            "weighted avg       0.94      0.93      0.93    142178\n",
            "\n"
          ]
        }
      ]
    },
    {
      "cell_type": "markdown",
      "source": [
        "## Naive Bayes"
      ],
      "metadata": {
        "id": "4yod8jO_-e6-"
      },
      "id": "4yod8jO_-e6-"
    },
    {
      "cell_type": "code",
      "source": [
        "from sklearn.naive_bayes import GaussianNB\n",
        "model=GaussianNB()\n",
        "model.fit(x_train,y_train)"
      ],
      "metadata": {
        "id": "Nh0WKaw78n8N",
        "outputId": "d88926ed-d2db-4669-83bd-69c6486eda59",
        "colab": {
          "base_uri": "https://localhost:8080/"
        }
      },
      "id": "Nh0WKaw78n8N",
      "execution_count": 55,
      "outputs": [
        {
          "output_type": "execute_result",
          "data": {
            "text/plain": [
              "GaussianNB()"
            ]
          },
          "metadata": {},
          "execution_count": 55
        }
      ]
    },
    {
      "cell_type": "code",
      "source": [
        "#evaluation on train data\n",
        "y_pre=model.predict(x_train)\n",
        "print(classification_report(y_train, y_pre))"
      ],
      "metadata": {
        "id": "vWjhW3Ab9NdO",
        "outputId": "f5cba197-db6b-4198-df94-4ad6a7f59392",
        "colab": {
          "base_uri": "https://localhost:8080/"
        }
      },
      "id": "vWjhW3Ab9NdO",
      "execution_count": 56,
      "outputs": [
        {
          "output_type": "stream",
          "name": "stdout",
          "text": [
            "              precision    recall  f1-score   support\n",
            "\n",
            "           0       0.87      0.98      0.92    213226\n",
            "           1       0.97      0.86      0.91    213226\n",
            "\n",
            "    accuracy                           0.92    426452\n",
            "   macro avg       0.92      0.92      0.92    426452\n",
            "weighted avg       0.92      0.92      0.92    426452\n",
            "\n"
          ]
        }
      ]
    },
    {
      "cell_type": "code",
      "source": [
        "#evaluation on test\n",
        "y_pre=model.predict(x_test)\n",
        "print(classification_report(y_test, y_pre))"
      ],
      "metadata": {
        "id": "5T9yRLfN9QbB",
        "outputId": "8c7e0d8b-acb3-4cb1-f824-8ad4634ef7c9",
        "colab": {
          "base_uri": "https://localhost:8080/"
        }
      },
      "id": "5T9yRLfN9QbB",
      "execution_count": 57,
      "outputs": [
        {
          "output_type": "stream",
          "name": "stdout",
          "text": [
            "              precision    recall  f1-score   support\n",
            "\n",
            "           0       0.88      0.98      0.93     71089\n",
            "           1       0.97      0.87      0.92     71089\n",
            "\n",
            "    accuracy                           0.92    142178\n",
            "   macro avg       0.93      0.92      0.92    142178\n",
            "weighted avg       0.93      0.92      0.92    142178\n",
            "\n"
          ]
        }
      ]
    },
    {
      "cell_type": "code",
      "source": [],
      "metadata": {
        "id": "uT3mHyF3-b9m"
      },
      "id": "uT3mHyF3-b9m",
      "execution_count": null,
      "outputs": []
    }
  ],
  "metadata": {
    "colab": {
      "provenance": []
    },
    "gpuClass": "standard",
    "kernelspec": {
      "display_name": "Python 3 (ipykernel)",
      "language": "python",
      "name": "python3"
    },
    "language_info": {
      "codemirror_mode": {
        "name": "ipython",
        "version": 3
      },
      "file_extension": ".py",
      "mimetype": "text/x-python",
      "name": "python",
      "nbconvert_exporter": "python",
      "pygments_lexer": "ipython3",
      "version": "3.9.12"
    }
  },
  "nbformat": 4,
  "nbformat_minor": 5
}